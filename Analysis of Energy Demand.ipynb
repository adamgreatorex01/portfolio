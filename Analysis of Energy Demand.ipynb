{
 "cells": [
  {
   "cell_type": "markdown",
   "metadata": {},
   "source": [
    "# Analysis of Energy Demand\n",
    "\n",
    "The assignment will focus on data visualisation using pandas library."
   ]
  },
  {
   "cell_type": "markdown",
   "metadata": {},
   "source": [
    "In this assignment, I will be analysing a dataset from the UK government detailing energy consumption across various sectors of industry. This assignment will focus on the transformation of data and subsequent creation of charts using pandas.\n",
    "During this project I learnt and recapped the following skills:\n",
    "- Researching how to change data types for multiple columns in one go, such as creating a dictionary **(as seen in Q1)**\n",
    "- Creating a new df, based on using the .groupby() method\n",
    "- Using the .agg() method to perform a nuber of aggregation functions across columns\n",
    "- Create a histogram from a specific column of a DataFrame using the .plot() method\n",
    "- Create a scatter plot of a column vs a column, to see the relationship between the two values\n",
    "- Create a bar chart of the sum column of the sector DataFrame using the .plot() method\n",
    "- Create a horizontal and stacked bar chart from the 'use' DataFrame, using the .plot() method"
   ]
  },
  {
   "cell_type": "markdown",
   "metadata": {},
   "source": [
    "### Importing Libraries\n",
    "Run the cell below first, to import `pandas`, and `matplotlib` `pyplot`. The `matplotlib_axes_logger.setLevel('ERROR')` code prevents some unnecessary warnings from showing."
   ]
  },
  {
   "cell_type": "code",
   "execution_count": 2,
   "metadata": {
    "inputHidden": false,
    "outputHidden": false
   },
   "outputs": [],
   "source": [
    "import pandas as pd\n",
    "\n",
    "from matplotlib import pyplot as plt\n",
    "from matplotlib.axes._axes import _log as matplotlib_axes_logger\n",
    "matplotlib_axes_logger.setLevel('ERROR')"
   ]
  },
  {
   "cell_type": "markdown",
   "metadata": {},
   "source": [
    "### About the Dataset\n",
    "\n",
    "In the following section, you will be analysing a data from the UK government detailing energy consumption across various sectors of industry. \n",
    "\n",
    "The dataset includes information about:\n",
    "\n",
    "- Sector - sectors of industry         \n",
    "- Sub -Sector - a sector that is part of a larger sector       \n",
    "- Electricity - energy consumption measured in kilowatt hour (kWh)     \n",
    "- Natural Gas - energy consumption measured in kilowatt hour (kWh)     \n",
    "- Oil - energy consumption measured in kilowatt hour (kWh)              \n",
    "- District Heating - is a system for distributing heat generated in a centralised location through a system of insulated pipes, measured in kilowatt hour (kWh)\n",
    "- Other - other energy sources measured in kilowatt hour (kWh) "
   ]
  },
  {
   "cell_type": "markdown",
   "metadata": {},
   "source": [
    "### Data collection\n",
    "\n",
    "We have written some code below to do some initial collation and cleaning of the datasets we'll be working with - see if you can follow along and understand what each line is doing.\n",
    "\n",
    "Run the following cell to import and concatenate the datasets, assigning the result to DataFrame `data`:"
   ]
  },
  {
   "cell_type": "code",
   "execution_count": 3,
   "metadata": {
    "scrolled": true
   },
   "outputs": [],
   "source": [
    "df1 = pd.read_csv('data/heating_2018.csv')\n",
    "df2 = pd.read_csv('data/hot_water_2018.csv')\n",
    "df3 = pd.read_csv('data/catering_2018.csv')\n",
    "data = pd.concat([df1, df2, df3], keys=['Heating', 'Hot Water', 'Catering']).reset_index(level=[0])"
   ]
  },
  {
   "cell_type": "markdown",
   "metadata": {},
   "source": [
    "Running `data.head()`, `data.sample()` and  `data.info()` will show us how the DataFrame is structured:"
   ]
  },
  {
   "cell_type": "code",
   "execution_count": 4,
   "metadata": {},
   "outputs": [
    {
     "data": {
      "text/html": [
       "<div>\n",
       "<style scoped>\n",
       "    .dataframe tbody tr th:only-of-type {\n",
       "        vertical-align: middle;\n",
       "    }\n",
       "\n",
       "    .dataframe tbody tr th {\n",
       "        vertical-align: top;\n",
       "    }\n",
       "\n",
       "    .dataframe thead th {\n",
       "        text-align: right;\n",
       "    }\n",
       "</style>\n",
       "<table border=\"1\" class=\"dataframe\">\n",
       "  <thead>\n",
       "    <tr style=\"text-align: right;\">\n",
       "      <th></th>\n",
       "      <th>level_0</th>\n",
       "      <th>Sector</th>\n",
       "      <th>Sub-Sector</th>\n",
       "      <th>Electricity</th>\n",
       "      <th>Natural Gas</th>\n",
       "      <th>Oil</th>\n",
       "      <th>District Heating</th>\n",
       "      <th>Other</th>\n",
       "    </tr>\n",
       "  </thead>\n",
       "  <tbody>\n",
       "    <tr>\n",
       "      <th>0</th>\n",
       "      <td>Heating</td>\n",
       "      <td>Arts, leisure and community</td>\n",
       "      <td>Clubs &amp; community centres</td>\n",
       "      <td>14</td>\n",
       "      <td>139</td>\n",
       "      <td>60</td>\n",
       "      <td>8.0</td>\n",
       "      <td>NaN</td>\n",
       "    </tr>\n",
       "    <tr>\n",
       "      <th>1</th>\n",
       "      <td>Heating</td>\n",
       "      <td>Arts, leisure and community</td>\n",
       "      <td>Leisure Centres</td>\n",
       "      <td>5</td>\n",
       "      <td>159</td>\n",
       "      <td>7</td>\n",
       "      <td>18.0</td>\n",
       "      <td>NaN</td>\n",
       "    </tr>\n",
       "    <tr>\n",
       "      <th>2</th>\n",
       "      <td>Heating</td>\n",
       "      <td>Arts, leisure and community</td>\n",
       "      <td>Museums</td>\n",
       "      <td>2</td>\n",
       "      <td>12</td>\n",
       "      <td>3</td>\n",
       "      <td>0.0</td>\n",
       "      <td>NaN</td>\n",
       "    </tr>\n",
       "    <tr>\n",
       "      <th>3</th>\n",
       "      <td>Heating</td>\n",
       "      <td>Arts, leisure and community</td>\n",
       "      <td>Places of Worship</td>\n",
       "      <td>29</td>\n",
       "      <td>377</td>\n",
       "      <td>110</td>\n",
       "      <td>13.0</td>\n",
       "      <td>NaN</td>\n",
       "    </tr>\n",
       "    <tr>\n",
       "      <th>4</th>\n",
       "      <td>Heating</td>\n",
       "      <td>Arts, leisure and community</td>\n",
       "      <td>Theatres</td>\n",
       "      <td>1</td>\n",
       "      <td>35</td>\n",
       "      <td>2</td>\n",
       "      <td>0.0</td>\n",
       "      <td>NaN</td>\n",
       "    </tr>\n",
       "  </tbody>\n",
       "</table>\n",
       "</div>"
      ],
      "text/plain": [
       "   level_0                       Sector                 Sub-Sector  \\\n",
       "0  Heating  Arts, leisure and community  Clubs & community centres   \n",
       "1  Heating  Arts, leisure and community            Leisure Centres   \n",
       "2  Heating  Arts, leisure and community                    Museums   \n",
       "3  Heating  Arts, leisure and community          Places of Worship   \n",
       "4  Heating  Arts, leisure and community                   Theatres   \n",
       "\n",
       "   Electricity  Natural Gas  Oil  District Heating  Other  \n",
       "0           14          139   60               8.0    NaN  \n",
       "1            5          159    7              18.0    NaN  \n",
       "2            2           12    3               0.0    NaN  \n",
       "3           29          377  110              13.0    NaN  \n",
       "4            1           35    2               0.0    NaN  "
      ]
     },
     "execution_count": 4,
     "metadata": {},
     "output_type": "execute_result"
    }
   ],
   "source": [
    "data.head()"
   ]
  },
  {
   "cell_type": "code",
   "execution_count": 5,
   "metadata": {},
   "outputs": [
    {
     "data": {
      "text/html": [
       "<div>\n",
       "<style scoped>\n",
       "    .dataframe tbody tr th:only-of-type {\n",
       "        vertical-align: middle;\n",
       "    }\n",
       "\n",
       "    .dataframe tbody tr th {\n",
       "        vertical-align: top;\n",
       "    }\n",
       "\n",
       "    .dataframe thead th {\n",
       "        text-align: right;\n",
       "    }\n",
       "</style>\n",
       "<table border=\"1\" class=\"dataframe\">\n",
       "  <thead>\n",
       "    <tr style=\"text-align: right;\">\n",
       "      <th></th>\n",
       "      <th>level_0</th>\n",
       "      <th>Sector</th>\n",
       "      <th>Sub-Sector</th>\n",
       "      <th>Electricity</th>\n",
       "      <th>Natural Gas</th>\n",
       "      <th>Oil</th>\n",
       "      <th>District Heating</th>\n",
       "      <th>Other</th>\n",
       "    </tr>\n",
       "  </thead>\n",
       "  <tbody>\n",
       "    <tr>\n",
       "      <th>32</th>\n",
       "      <td>Hot Water</td>\n",
       "      <td>Storage</td>\n",
       "      <td>Cold Stores</td>\n",
       "      <td>0</td>\n",
       "      <td>2</td>\n",
       "      <td>0</td>\n",
       "      <td>0.0</td>\n",
       "      <td>0.0</td>\n",
       "    </tr>\n",
       "    <tr>\n",
       "      <th>28</th>\n",
       "      <td>Heating</td>\n",
       "      <td>Retail</td>\n",
       "      <td>Large non-food shops</td>\n",
       "      <td>57</td>\n",
       "      <td>55</td>\n",
       "      <td>0</td>\n",
       "      <td>0.0</td>\n",
       "      <td>NaN</td>\n",
       "    </tr>\n",
       "    <tr>\n",
       "      <th>16</th>\n",
       "      <td>Catering</td>\n",
       "      <td>Health</td>\n",
       "      <td>Nursing Homes</td>\n",
       "      <td>2</td>\n",
       "      <td>4</td>\n",
       "      <td>2</td>\n",
       "      <td>NaN</td>\n",
       "      <td>NaN</td>\n",
       "    </tr>\n",
       "    <tr>\n",
       "      <th>31</th>\n",
       "      <td>Catering</td>\n",
       "      <td>Retail</td>\n",
       "      <td>Small shops</td>\n",
       "      <td>9</td>\n",
       "      <td>2</td>\n",
       "      <td>21</td>\n",
       "      <td>NaN</td>\n",
       "      <td>NaN</td>\n",
       "    </tr>\n",
       "    <tr>\n",
       "      <th>10</th>\n",
       "      <td>Catering</td>\n",
       "      <td>Emergency Services</td>\n",
       "      <td>Fire and Ambulance stations</td>\n",
       "      <td>1</td>\n",
       "      <td>0</td>\n",
       "      <td>0</td>\n",
       "      <td>NaN</td>\n",
       "      <td>NaN</td>\n",
       "    </tr>\n",
       "  </tbody>\n",
       "</table>\n",
       "</div>"
      ],
      "text/plain": [
       "      level_0              Sector                   Sub-Sector  Electricity  \\\n",
       "32  Hot Water             Storage                  Cold Stores            0   \n",
       "28    Heating              Retail         Large non-food shops           57   \n",
       "16   Catering              Health                Nursing Homes            2   \n",
       "31   Catering              Retail                  Small shops            9   \n",
       "10   Catering  Emergency Services  Fire and Ambulance stations            1   \n",
       "\n",
       "    Natural Gas  Oil  District Heating  Other  \n",
       "32            2    0               0.0    0.0  \n",
       "28           55    0               0.0    NaN  \n",
       "16            4    2               NaN    NaN  \n",
       "31            2   21               NaN    NaN  \n",
       "10            0    0               NaN    NaN  "
      ]
     },
     "execution_count": 5,
     "metadata": {},
     "output_type": "execute_result"
    }
   ],
   "source": [
    "data.sample(5)"
   ]
  },
  {
   "cell_type": "code",
   "execution_count": 6,
   "metadata": {},
   "outputs": [
    {
     "name": "stdout",
     "output_type": "stream",
     "text": [
      "<class 'pandas.core.frame.DataFrame'>\n",
      "Int64Index: 108 entries, 0 to 35\n",
      "Data columns (total 8 columns):\n",
      " #   Column            Non-Null Count  Dtype  \n",
      "---  ------            --------------  -----  \n",
      " 0   level_0           108 non-null    object \n",
      " 1   Sector            108 non-null    object \n",
      " 2   Sub-Sector        108 non-null    object \n",
      " 3   Electricity       108 non-null    int64  \n",
      " 4   Natural Gas       108 non-null    int64  \n",
      " 5   Oil               108 non-null    int64  \n",
      " 6   District Heating  72 non-null     float64\n",
      " 7   Other             36 non-null     float64\n",
      "dtypes: float64(2), int64(3), object(3)\n",
      "memory usage: 7.6+ KB\n"
     ]
    }
   ],
   "source": [
    "data.info()"
   ]
  },
  {
   "cell_type": "markdown",
   "metadata": {},
   "source": [
    "### Data processing"
   ]
  },
  {
   "cell_type": "markdown",
   "metadata": {},
   "source": [
    "**Q1.** First of all, let's tidy up the `data` DataFrame:\n",
    "\n",
    "- Use the `.rename()` method to change the name of the `level_0` column to `Use`\n",
    "- Use the `.fillna()` method to update all `NaN` values to `0`\n",
    "- Use the `astype()` method to convert all numerical columns `['Electricity', 'Natural Gas', 'Oil', 'District Heating', 'Other']` to integers\n",
    "- Create a new column `Total` which contains the sum of all numerical columns.\n",
    "\n",
    "KATE will evaluate your updated version of `data` to check these changes have been made.\n"
   ]
  },
  {
   "cell_type": "code",
   "execution_count": 7,
   "metadata": {},
   "outputs": [
    {
     "name": "stdout",
     "output_type": "stream",
     "text": [
      "<class 'pandas.core.frame.DataFrame'>\n",
      "Int64Index: 108 entries, 0 to 35\n",
      "Data columns (total 8 columns):\n",
      " #   Column            Non-Null Count  Dtype \n",
      "---  ------            --------------  ----- \n",
      " 0   Use               108 non-null    object\n",
      " 1   Sector            108 non-null    object\n",
      " 2   Sub-Sector        108 non-null    object\n",
      " 3   Electricity       108 non-null    int64 \n",
      " 4   Natural Gas       108 non-null    int64 \n",
      " 5   Oil               108 non-null    int64 \n",
      " 6   District Heating  108 non-null    int64 \n",
      " 7   Other             108 non-null    int64 \n",
      "dtypes: int64(5), object(3)\n",
      "memory usage: 7.6+ KB\n"
     ]
    },
    {
     "data": {
      "text/html": [
       "<div>\n",
       "<style scoped>\n",
       "    .dataframe tbody tr th:only-of-type {\n",
       "        vertical-align: middle;\n",
       "    }\n",
       "\n",
       "    .dataframe tbody tr th {\n",
       "        vertical-align: top;\n",
       "    }\n",
       "\n",
       "    .dataframe thead th {\n",
       "        text-align: right;\n",
       "    }\n",
       "</style>\n",
       "<table border=\"1\" class=\"dataframe\">\n",
       "  <thead>\n",
       "    <tr style=\"text-align: right;\">\n",
       "      <th></th>\n",
       "      <th>Use</th>\n",
       "      <th>Sector</th>\n",
       "      <th>Sub-Sector</th>\n",
       "      <th>Electricity</th>\n",
       "      <th>Natural Gas</th>\n",
       "      <th>Oil</th>\n",
       "      <th>District Heating</th>\n",
       "      <th>Other</th>\n",
       "      <th>Total</th>\n",
       "    </tr>\n",
       "  </thead>\n",
       "  <tbody>\n",
       "    <tr>\n",
       "      <th>35</th>\n",
       "      <td>Hot Water</td>\n",
       "      <td>Storage</td>\n",
       "      <td>Warehouses</td>\n",
       "      <td>9</td>\n",
       "      <td>12</td>\n",
       "      <td>9</td>\n",
       "      <td>0</td>\n",
       "      <td>3</td>\n",
       "      <td>33</td>\n",
       "    </tr>\n",
       "    <tr>\n",
       "      <th>6</th>\n",
       "      <td>Hot Water</td>\n",
       "      <td>Education</td>\n",
       "      <td>State Primary schools</td>\n",
       "      <td>14</td>\n",
       "      <td>63</td>\n",
       "      <td>16</td>\n",
       "      <td>0</td>\n",
       "      <td>0</td>\n",
       "      <td>93</td>\n",
       "    </tr>\n",
       "    <tr>\n",
       "      <th>18</th>\n",
       "      <td>Catering</td>\n",
       "      <td>Hospitality</td>\n",
       "      <td>Hotels</td>\n",
       "      <td>41</td>\n",
       "      <td>31</td>\n",
       "      <td>113</td>\n",
       "      <td>0</td>\n",
       "      <td>0</td>\n",
       "      <td>185</td>\n",
       "    </tr>\n",
       "    <tr>\n",
       "      <th>32</th>\n",
       "      <td>Heating</td>\n",
       "      <td>Storage</td>\n",
       "      <td>Cold Stores</td>\n",
       "      <td>0</td>\n",
       "      <td>0</td>\n",
       "      <td>0</td>\n",
       "      <td>0</td>\n",
       "      <td>0</td>\n",
       "      <td>0</td>\n",
       "    </tr>\n",
       "    <tr>\n",
       "      <th>6</th>\n",
       "      <td>Catering</td>\n",
       "      <td>Education</td>\n",
       "      <td>State Primary schools</td>\n",
       "      <td>19</td>\n",
       "      <td>16</td>\n",
       "      <td>4</td>\n",
       "      <td>0</td>\n",
       "      <td>0</td>\n",
       "      <td>39</td>\n",
       "    </tr>\n",
       "  </tbody>\n",
       "</table>\n",
       "</div>"
      ],
      "text/plain": [
       "          Use       Sector             Sub-Sector  Electricity  Natural Gas  \\\n",
       "35  Hot Water      Storage             Warehouses            9           12   \n",
       "6   Hot Water    Education  State Primary schools           14           63   \n",
       "18   Catering  Hospitality                 Hotels           41           31   \n",
       "32    Heating      Storage            Cold Stores            0            0   \n",
       "6    Catering    Education  State Primary schools           19           16   \n",
       "\n",
       "    Oil  District Heating  Other  Total  \n",
       "35    9                 0      3     33  \n",
       "6    16                 0      0     93  \n",
       "18  113                 0      0    185  \n",
       "32    0                 0      0      0  \n",
       "6     4                 0      0     39  "
      ]
     },
     "execution_count": 7,
     "metadata": {},
     "output_type": "execute_result"
    }
   ],
   "source": [
    "#add your code to update the `data` DataFrame below\n",
    "data.rename(columns={'level_0': 'Use'}, inplace=True)\n",
    "data.fillna(0,inplace=True)\n",
    "\n",
    "convert_dict = {'Electricity': int,\n",
    "                'Natural Gas': int,\n",
    "                'Oil': int,\n",
    "                'District Heating' : int,\n",
    "                'Other' : int\n",
    "                }\n",
    "\n",
    "data = data.astype(convert_dict)\n",
    "data.info()\n",
    "data['Total'] = data['Electricity'] + data['Natural Gas'] + data['Oil'] + data['District Heating'] + data['Other']\n",
    "data.sample(5)\n"
   ]
  },
  {
   "cell_type": "markdown",
   "metadata": {},
   "source": [
    "### Data grouping"
   ]
  },
  {
   "cell_type": "markdown",
   "metadata": {},
   "source": [
    "**Q2.** Create a new DataFrame called `ss`, using `.groupby()` to group DataFrame `data` by column `Sub-Sector`, which contains the `.sum()` for each of the numerical (energy type) columns for each group:\n",
    "\n",
    "```python\n",
    "DataFrame_Name.groupby(by=...).sum() \n",
    "```"
   ]
  },
  {
   "cell_type": "code",
   "execution_count": 18,
   "metadata": {},
   "outputs": [
    {
     "data": {
      "text/html": [
       "<div>\n",
       "<style scoped>\n",
       "    .dataframe tbody tr th:only-of-type {\n",
       "        vertical-align: middle;\n",
       "    }\n",
       "\n",
       "    .dataframe tbody tr th {\n",
       "        vertical-align: top;\n",
       "    }\n",
       "\n",
       "    .dataframe thead th {\n",
       "        text-align: right;\n",
       "    }\n",
       "</style>\n",
       "<table border=\"1\" class=\"dataframe\">\n",
       "  <thead>\n",
       "    <tr style=\"text-align: right;\">\n",
       "      <th></th>\n",
       "      <th>Electricity</th>\n",
       "      <th>Natural Gas</th>\n",
       "      <th>Oil</th>\n",
       "      <th>District Heating</th>\n",
       "      <th>Other</th>\n",
       "      <th>Total</th>\n",
       "    </tr>\n",
       "    <tr>\n",
       "      <th>Sub-Sector</th>\n",
       "      <th></th>\n",
       "      <th></th>\n",
       "      <th></th>\n",
       "      <th></th>\n",
       "      <th></th>\n",
       "      <th></th>\n",
       "    </tr>\n",
       "  </thead>\n",
       "  <tbody>\n",
       "    <tr>\n",
       "      <th>Stores</th>\n",
       "      <td>9</td>\n",
       "      <td>33</td>\n",
       "      <td>15</td>\n",
       "      <td>0</td>\n",
       "      <td>1</td>\n",
       "      <td>58</td>\n",
       "    </tr>\n",
       "    <tr>\n",
       "      <th>Theatres</th>\n",
       "      <td>2</td>\n",
       "      <td>37</td>\n",
       "      <td>3</td>\n",
       "      <td>0</td>\n",
       "      <td>1</td>\n",
       "      <td>43</td>\n",
       "    </tr>\n",
       "    <tr>\n",
       "      <th>Uni - Non-residential</th>\n",
       "      <td>20</td>\n",
       "      <td>308</td>\n",
       "      <td>0</td>\n",
       "      <td>46</td>\n",
       "      <td>0</td>\n",
       "      <td>374</td>\n",
       "    </tr>\n",
       "    <tr>\n",
       "      <th>Uni - Residential</th>\n",
       "      <td>9</td>\n",
       "      <td>85</td>\n",
       "      <td>16</td>\n",
       "      <td>39</td>\n",
       "      <td>0</td>\n",
       "      <td>149</td>\n",
       "    </tr>\n",
       "    <tr>\n",
       "      <th>Warehouses</th>\n",
       "      <td>56</td>\n",
       "      <td>404</td>\n",
       "      <td>651</td>\n",
       "      <td>0</td>\n",
       "      <td>3</td>\n",
       "      <td>1114</td>\n",
       "    </tr>\n",
       "  </tbody>\n",
       "</table>\n",
       "</div>"
      ],
      "text/plain": [
       "                       Electricity  Natural Gas  Oil  District Heating  Other  \\\n",
       "Sub-Sector                                                                      \n",
       "Stores                           9           33   15                 0      1   \n",
       "Theatres                         2           37    3                 0      1   \n",
       "Uni - Non-residential           20          308    0                46      0   \n",
       "Uni - Residential                9           85   16                39      0   \n",
       "Warehouses                      56          404  651                 0      3   \n",
       "\n",
       "                       Total  \n",
       "Sub-Sector                    \n",
       "Stores                    58  \n",
       "Theatres                  43  \n",
       "Uni - Non-residential    374  \n",
       "Uni - Residential        149  \n",
       "Warehouses              1114  "
      ]
     },
     "execution_count": 18,
     "metadata": {},
     "output_type": "execute_result"
    }
   ],
   "source": [
    "#add your code below\n",
    "ss = data.groupby(['Sub-Sector'])[['Electricity', 'Natural Gas', 'Oil', 'District Heating', 'Other', 'Total']].sum()\n",
    "\n",
    "ss.tail()\n"
   ]
  },
  {
   "cell_type": "markdown",
   "metadata": {},
   "source": [
    "**Q3.** Create a new DataFrame called `use`, using `.groupby()` to group DataFrame `data` by column `Use`, which contains the `.sum()` for each of the numerical (energy type) columns for each group:\n",
    "\n",
    "```python\n",
    "DataFrame_Name.groupby(by=...).sum() \n",
    "```"
   ]
  },
  {
   "cell_type": "code",
   "execution_count": 9,
   "metadata": {},
   "outputs": [
    {
     "data": {
      "text/html": [
       "<div>\n",
       "<style scoped>\n",
       "    .dataframe tbody tr th:only-of-type {\n",
       "        vertical-align: middle;\n",
       "    }\n",
       "\n",
       "    .dataframe tbody tr th {\n",
       "        vertical-align: top;\n",
       "    }\n",
       "\n",
       "    .dataframe thead th {\n",
       "        text-align: right;\n",
       "    }\n",
       "</style>\n",
       "<table border=\"1\" class=\"dataframe\">\n",
       "  <thead>\n",
       "    <tr style=\"text-align: right;\">\n",
       "      <th></th>\n",
       "      <th>Electricity</th>\n",
       "      <th>Natural Gas</th>\n",
       "      <th>Oil</th>\n",
       "      <th>District Heating</th>\n",
       "      <th>Other</th>\n",
       "      <th>Total</th>\n",
       "    </tr>\n",
       "    <tr>\n",
       "      <th>Use</th>\n",
       "      <th></th>\n",
       "      <th></th>\n",
       "      <th></th>\n",
       "      <th></th>\n",
       "      <th></th>\n",
       "      <th></th>\n",
       "    </tr>\n",
       "  </thead>\n",
       "  <tbody>\n",
       "    <tr>\n",
       "      <th>Catering</th>\n",
       "      <td>758</td>\n",
       "      <td>587</td>\n",
       "      <td>800</td>\n",
       "      <td>0</td>\n",
       "      <td>0</td>\n",
       "      <td>2145</td>\n",
       "    </tr>\n",
       "    <tr>\n",
       "      <th>Heating</th>\n",
       "      <td>762</td>\n",
       "      <td>6044</td>\n",
       "      <td>1602</td>\n",
       "      <td>265</td>\n",
       "      <td>0</td>\n",
       "      <td>8673</td>\n",
       "    </tr>\n",
       "    <tr>\n",
       "      <th>Hot Water</th>\n",
       "      <td>160</td>\n",
       "      <td>801</td>\n",
       "      <td>257</td>\n",
       "      <td>17</td>\n",
       "      <td>109</td>\n",
       "      <td>1344</td>\n",
       "    </tr>\n",
       "  </tbody>\n",
       "</table>\n",
       "</div>"
      ],
      "text/plain": [
       "           Electricity  Natural Gas   Oil  District Heating  Other  Total\n",
       "Use                                                                      \n",
       "Catering           758          587   800                 0      0   2145\n",
       "Heating            762         6044  1602               265      0   8673\n",
       "Hot Water          160          801   257                17    109   1344"
      ]
     },
     "execution_count": 9,
     "metadata": {},
     "output_type": "execute_result"
    }
   ],
   "source": [
    "#add your code below\n",
    "use = data.groupby(['Use'])[['Electricity', 'Natural Gas', 'Oil', 'District Heating', 'Other', 'Total']].sum()\n",
    "use.head()\n"
   ]
  },
  {
   "cell_type": "markdown",
   "metadata": {},
   "source": [
    "**Q4.** Create a new DataFrame called `sector`, using `.groupby()` to group DataFrame `data` by column `Sector`, and `.agg()` on the `Total` column such that the new DataFrame has columns for `sum`, `mean`, and `count` of the values in `Total`:\n",
    "\n",
    "```python\n",
    "DataFrame_Name.groupby(by=...)[column].agg([...]) \n",
    "```\n",
    "- Use the `sort_values()` method to sort the resulting DataFrame by `sum`, in *descending* order\n",
    "\n",
    "- You may find [this documentation page](https://pandas.pydata.org/pandas-docs/version/0.23.1/generated/pandas.core.groupby.DataFrameGroupBy.agg.html) useful"
   ]
  },
  {
   "cell_type": "code",
   "execution_count": 19,
   "metadata": {},
   "outputs": [
    {
     "data": {
      "text/html": [
       "<div>\n",
       "<style scoped>\n",
       "    .dataframe tbody tr th:only-of-type {\n",
       "        vertical-align: middle;\n",
       "    }\n",
       "\n",
       "    .dataframe tbody tr th {\n",
       "        vertical-align: top;\n",
       "    }\n",
       "\n",
       "    .dataframe thead th {\n",
       "        text-align: right;\n",
       "    }\n",
       "</style>\n",
       "<table border=\"1\" class=\"dataframe\">\n",
       "  <thead>\n",
       "    <tr style=\"text-align: right;\">\n",
       "      <th></th>\n",
       "      <th>sum</th>\n",
       "      <th>mean</th>\n",
       "      <th>count</th>\n",
       "    </tr>\n",
       "    <tr>\n",
       "      <th>Sector</th>\n",
       "      <th></th>\n",
       "      <th></th>\n",
       "      <th></th>\n",
       "    </tr>\n",
       "  </thead>\n",
       "  <tbody>\n",
       "    <tr>\n",
       "      <th>Hospitality</th>\n",
       "      <td>2371</td>\n",
       "      <td>197.583333</td>\n",
       "      <td>12</td>\n",
       "    </tr>\n",
       "    <tr>\n",
       "      <th>Education</th>\n",
       "      <td>1837</td>\n",
       "      <td>122.466667</td>\n",
       "      <td>15</td>\n",
       "    </tr>\n",
       "    <tr>\n",
       "      <th>Offices</th>\n",
       "      <td>1773</td>\n",
       "      <td>295.500000</td>\n",
       "      <td>6</td>\n",
       "    </tr>\n",
       "    <tr>\n",
       "      <th>Health</th>\n",
       "      <td>1488</td>\n",
       "      <td>165.333333</td>\n",
       "      <td>9</td>\n",
       "    </tr>\n",
       "    <tr>\n",
       "      <th>Retail</th>\n",
       "      <td>1402</td>\n",
       "      <td>77.888889</td>\n",
       "      <td>18</td>\n",
       "    </tr>\n",
       "    <tr>\n",
       "      <th>Storage</th>\n",
       "      <td>1340</td>\n",
       "      <td>111.666667</td>\n",
       "      <td>12</td>\n",
       "    </tr>\n",
       "    <tr>\n",
       "      <th>Arts, leisure and community</th>\n",
       "      <td>1205</td>\n",
       "      <td>80.333333</td>\n",
       "      <td>15</td>\n",
       "    </tr>\n",
       "    <tr>\n",
       "      <th>Emergency Services</th>\n",
       "      <td>503</td>\n",
       "      <td>41.916667</td>\n",
       "      <td>12</td>\n",
       "    </tr>\n",
       "    <tr>\n",
       "      <th>Military</th>\n",
       "      <td>243</td>\n",
       "      <td>27.000000</td>\n",
       "      <td>9</td>\n",
       "    </tr>\n",
       "  </tbody>\n",
       "</table>\n",
       "</div>"
      ],
      "text/plain": [
       "                              sum        mean  count\n",
       "Sector                                              \n",
       "Hospitality                  2371  197.583333     12\n",
       "Education                    1837  122.466667     15\n",
       "Offices                      1773  295.500000      6\n",
       "Health                       1488  165.333333      9\n",
       "Retail                       1402   77.888889     18\n",
       "Storage                      1340  111.666667     12\n",
       "Arts, leisure and community  1205   80.333333     15\n",
       "Emergency Services            503   41.916667     12\n",
       "Military                      243   27.000000      9"
      ]
     },
     "execution_count": 19,
     "metadata": {},
     "output_type": "execute_result"
    }
   ],
   "source": [
    "sector = data.groupby(['Sector'])['Total'].agg(['sum', 'mean', 'count'])\n",
    "sector.sort_values('sum', ascending=False, inplace=True)\n",
    "sector"
   ]
  },
  {
   "cell_type": "markdown",
   "metadata": {},
   "source": [
    "*You may want to submit your notebook to KATE to ensure your `data`, `ss`, and `use` and `sector` DataFrames are as expected before moving on to the visualisations.*"
   ]
  },
  {
   "cell_type": "markdown",
   "metadata": {},
   "source": [
    "### Data visualisation"
   ]
  },
  {
   "cell_type": "markdown",
   "metadata": {},
   "source": [
    "**Q5.** Create a **histogram** from the `Electricity` column of `ss` DataFrames using the `.plot()` method:\n",
    "- The histogram should have 5 `bins`\n",
    "- Assign the plot to the variable `elec_hist`\n",
    "- Ensure your code cell starts with `plt.figure()`\n",
    "\n",
    "```python\n",
    "plt.figure() \n",
    "elec_hist = DataFrame_Name.plot(kind=..., bins=...);\n",
    "```\n",
    "\n",
    "*We need to execute `plt.figure()` before creating each new plot in the notebook, otherwise the properties of previous plots will be overwritten in memory and KATE will not evaluate them correctly.*"
   ]
  },
  {
   "cell_type": "code",
   "execution_count": 11,
   "metadata": {},
   "outputs": [
    {
     "data": {
      "image/png": "[encoded data removed]",
      "text/plain": [
       "<Figure size 640x480 with 1 Axes>"
      ]
     },
     "metadata": {},
     "output_type": "display_data"
    }
   ],
   "source": [
    "#add your code below\n",
    "plt.figure()\n",
    "elec_hist = ss['Electricity'].plot(kind='hist', bins=5)\n",
    "\n",
    "\n",
    "# df['Popularity'].plot(kind='hist', bins=10)\n"
   ]
  },
  {
   "cell_type": "markdown",
   "metadata": {},
   "source": [
    "**Q6.** Create a **scatter plot** of `Natural Gas` vs `Total`, to see the relationship between the two values.\n",
    "\n",
    "- Use the `.plot()` method on `ss`\n",
    "- Have `Natural Gas` on the x-axis and `Total` on the y-axis\n",
    "- Assign the plot to the variable `gas_total`\n",
    "- Ensure your code cell starts with `plt.figure()`\n",
    "\n",
    "```python\n",
    "DataFrame_Name.plot(x=..., y=..., kind=...);\n",
    "```"
   ]
  },
  {
   "cell_type": "code",
   "execution_count": 12,
   "metadata": {},
   "outputs": [
    {
     "data": {
      "text/plain": [
       "<Figure size 640x480 with 0 Axes>"
      ]
     },
     "metadata": {},
     "output_type": "display_data"
    },
    {
     "data": {
      "image/png": "[encoded data removed]",
      "text/plain": [
       "<Figure size 640x480 with 1 Axes>"
      ]
     },
     "metadata": {},
     "output_type": "display_data"
    }
   ],
   "source": [
    "#add your code below\n",
    "plt.figure()\n",
    "gas_total = ss.plot(x='Natural Gas', y='Total', kind='scatter');\n",
    "\n",
    "\n",
    "\n",
    "\n",
    "# df.plot(x='Birth rate(births/1000 population)', \n",
    "#         y='Infant mortality rate(deaths/1000 live births)', \n",
    "#         kind='scatter');"
   ]
  },
  {
   "cell_type": "markdown",
   "metadata": {},
   "source": [
    "**Q7.** Create a **bar chart** of the `sum` column of the `sector` DataFrame using the `.plot()` method:\n",
    "\n",
    "- Add a title of `Energy consumption by sector` to the plot\n",
    "- Assign the plot to the variable `sector_sum`\n",
    "- Ensure your code cell starts with `plt.figure()`\n",
    "\n",
    "```python\n",
    "DataFrame_Name.plot(kind=..., title=...);\n",
    "```"
   ]
  },
  {
   "cell_type": "code",
   "execution_count": 13,
   "metadata": {},
   "outputs": [
    {
     "data": {
      "image/png": "[encoded data removed]",
      "text/plain": [
       "<Figure size 640x480 with 1 Axes>"
      ]
     },
     "metadata": {},
     "output_type": "display_data"
    }
   ],
   "source": [
    "#add your code below\n",
    "plt.figure()\n",
    "sector_sum = sector['sum'].plot(kind='bar', title='Energy consumption by sector')\n",
    "\n",
    "\n",
    "# df['Income group'].value_counts().plot(kind='bar');"
   ]
  },
  {
   "cell_type": "markdown",
   "metadata": {},
   "source": [
    "**Q8.** Create a *horizontal* and *stacked* bar chart from the `use` DataFrame, using the `.plot()` method:\n",
    "\n",
    "- Do not include the `Total` column values\n",
    "- Assign the plot to the variable `use_type`\n",
    "- Give it a `figsize` of `(12, 12)`\n",
    "- You may find [this page](https://pandas.pydata.org/pandas-docs/stable/reference/api/pandas.DataFrame.plot.barh.html) useful\n",
    "- Ensure your code cell starts with `plt.figure()`\n",
    "\n",
    "```python\n",
    "DataFrame_Name.plot.barh(stacked=True, figsize=(...));\n",
    "```"
   ]
  },
  {
   "cell_type": "code",
   "execution_count": 14,
   "metadata": {},
   "outputs": [
    {
     "data": {
      "text/plain": [
       "<Figure size 640x480 with 0 Axes>"
      ]
     },
     "metadata": {},
     "output_type": "display_data"
    },
    {
     "data": {
      "image/png": "[encoded data removed]",
      "text/plain": [
       "<Figure size 1200x1200 with 1 Axes>"
      ]
     },
     "metadata": {},
     "output_type": "display_data"
    }
   ],
   "source": [
    "#add your code below\n",
    "plt.figure()\n",
    "use_type = use[['Electricity', 'Natural Gas', 'Oil', 'District Heating', 'Other']].plot.barh(stacked=True, figsize=(12,12));\n",
    "\n"
   ]
  }
 ],
 "metadata": {
  "kernel_info": {
   "name": "python3"
  },
  "kernelspec": {
   "display_name": "Python 3 (ipykernel)",
   "language": "python",
   "name": "python3"
  },
  "language_info": {
   "codemirror_mode": {
    "name": "ipython",
    "version": 3
   },
   "file_extension": ".py",
   "mimetype": "text/x-python",
   "name": "python",
   "nbconvert_exporter": "python",
   "pygments_lexer": "ipython3",
   "version": "3.7.16"
  },
  "nteract": {
   "version": "0.15.0"
  }
 },
 "nbformat": 4,
 "nbformat_minor": 4
}
