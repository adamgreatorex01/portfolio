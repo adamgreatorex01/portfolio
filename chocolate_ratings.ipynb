{
 "cells": [
  {
   "cell_type": "markdown",
   "metadata": {},
   "source": [
    "# Chocolate Bar Ratings Dataset\n",
    "\n",
    "In this assignment you will use a dataset with the ratings of several chocolate bars produced by companies located in different parts of the world. The dataset is a pre-processed version of the original dataset that can be found following this [link](https://www.kaggle.com/rtatman/chocolate-bar-ratings).\n",
    "\n",
    "Your focus will be on the ratings of chocolate bars produced in the UK and Switzerland. The ratings are in the range of 1-5; the higher the better."
   ]
  },
  {
   "cell_type": "markdown",
   "metadata": {},
   "source": [
    "KATE expects your code to define variables with specific names that correspond to certain things we are interested in.\n",
    "\n",
    "KATE will run your notebook from top to bottom and check the latest value of those variables, so make sure you don't overwrite them.\n",
    "\n",
    "* Remember to uncomment the line assigning the variable to your answer and don't change the variable or function names.\n",
    "* Use copies of the original or previous DataFrames to make sure you do not overwrite them by mistake.\n",
    "\n",
    "You will find instructions below about how to define each variable.\n",
    "\n",
    "Once you're happy with your code, upload your notebook to KATE to check your feedback."
   ]
  },
  {
   "cell_type": "markdown",
   "metadata": {},
   "source": [
    "KATE expects your code to define variables with specific names that correspond to certain things we are interested in.\n",
    "\n",
    "KATE will run your notebook from top to bottom and check the latest value of those variables, so make sure you don't overwrite them.\n",
    "\n",
    "* Remember to uncomment the line assigning the variable to your answer and don't change the variable or function names.\n",
    "* Use copies of the original or previous DataFrames to make sure you do not overwrite them by mistake.\n",
    "\n",
    "You will find instructions below about how to define each variable.\n",
    "\n",
    "Once you're happy with your code, upload your notebook to KATE to check your feedback."
   ]
  },
  {
   "cell_type": "code",
   "execution_count": 1,
   "metadata": {
    "inputHidden": false,
    "outputHidden": false
   },
   "outputs": [],
   "source": [
    "# Import the usual suspects for data manipulation, statistics, and visualisations.\n",
    "import pandas as pd # used to \"tidy\" up and manipulate our data\n",
    "import numpy as np # used for matrix and numerical calculations; foundation of pandas\n",
    "from scipy import stats # contains stats functions and is used to visualise probability distributions\n",
    "import matplotlib.pyplot as plt # used for visualisations\n",
    "import seaborn as sns # a more user-friendly library used for visualisations"
   ]
  },
  {
   "cell_type": "markdown",
   "metadata": {},
   "source": [
    "### Dataset and variables"
   ]
  },
  {
   "cell_type": "markdown",
   "metadata": {},
   "source": [
    "**1. Load the dataset called `flavors_cacao.csv` into a DataFrame**\n",
    "\n",
    "Store the answer in a variable called `choco_df` and call the `.head()` method to view the first 5 rows."
   ]
  },
  {
   "cell_type": "code",
   "execution_count": 2,
   "metadata": {},
   "outputs": [
    {
     "data": {
      "text/html": [
       "<div>\n",
       "<style scoped>\n",
       "    .dataframe tbody tr th:only-of-type {\n",
       "        vertical-align: middle;\n",
       "    }\n",
       "\n",
       "    .dataframe tbody tr th {\n",
       "        vertical-align: top;\n",
       "    }\n",
       "\n",
       "    .dataframe thead th {\n",
       "        text-align: right;\n",
       "    }\n",
       "</style>\n",
       "<table border=\"1\" class=\"dataframe\">\n",
       "  <thead>\n",
       "    <tr style=\"text-align: right;\">\n",
       "      <th></th>\n",
       "      <th>company</th>\n",
       "      <th>species</th>\n",
       "      <th>REF</th>\n",
       "      <th>review_year</th>\n",
       "      <th>cocoa_p</th>\n",
       "      <th>company_location</th>\n",
       "      <th>rating</th>\n",
       "      <th>country</th>\n",
       "    </tr>\n",
       "  </thead>\n",
       "  <tbody>\n",
       "    <tr>\n",
       "      <th>0</th>\n",
       "      <td>Akesson's (Pralus)</td>\n",
       "      <td>Bali (west), Sukrama Family, Melaya area</td>\n",
       "      <td>636</td>\n",
       "      <td>2011</td>\n",
       "      <td>0.75</td>\n",
       "      <td>Switzerland</td>\n",
       "      <td>3.75</td>\n",
       "      <td>Indonesia</td>\n",
       "    </tr>\n",
       "    <tr>\n",
       "      <th>1</th>\n",
       "      <td>Akesson's (Pralus)</td>\n",
       "      <td>Madagascar, Ambolikapiky P.</td>\n",
       "      <td>502</td>\n",
       "      <td>2010</td>\n",
       "      <td>0.75</td>\n",
       "      <td>Switzerland</td>\n",
       "      <td>2.75</td>\n",
       "      <td>Madagascar</td>\n",
       "    </tr>\n",
       "    <tr>\n",
       "      <th>2</th>\n",
       "      <td>Akesson's (Pralus)</td>\n",
       "      <td>Monte Alegre, D. Badero</td>\n",
       "      <td>508</td>\n",
       "      <td>2010</td>\n",
       "      <td>0.75</td>\n",
       "      <td>Switzerland</td>\n",
       "      <td>2.75</td>\n",
       "      <td>Brazil</td>\n",
       "    </tr>\n",
       "    <tr>\n",
       "      <th>3</th>\n",
       "      <td>Artisan du Chocolat</td>\n",
       "      <td>Trinidad, Heritage, Limited ed.</td>\n",
       "      <td>1193</td>\n",
       "      <td>2013</td>\n",
       "      <td>0.72</td>\n",
       "      <td>U.K.</td>\n",
       "      <td>3.25</td>\n",
       "      <td>Trinidad</td>\n",
       "    </tr>\n",
       "    <tr>\n",
       "      <th>4</th>\n",
       "      <td>Artisan du Chocolat</td>\n",
       "      <td>Colombia, Casa Luker</td>\n",
       "      <td>947</td>\n",
       "      <td>2012</td>\n",
       "      <td>0.72</td>\n",
       "      <td>U.K.</td>\n",
       "      <td>3.75</td>\n",
       "      <td>Colombia</td>\n",
       "    </tr>\n",
       "  </tbody>\n",
       "</table>\n",
       "</div>"
      ],
      "text/plain": [
       "               company                                   species   REF  \\\n",
       "0   Akesson's (Pralus)  Bali (west), Sukrama Family, Melaya area   636   \n",
       "1   Akesson's (Pralus)               Madagascar, Ambolikapiky P.   502   \n",
       "2   Akesson's (Pralus)                   Monte Alegre, D. Badero   508   \n",
       "3  Artisan du Chocolat           Trinidad, Heritage, Limited ed.  1193   \n",
       "4  Artisan du Chocolat                      Colombia, Casa Luker   947   \n",
       "\n",
       "   review_year  cocoa_p company_location  rating     country  \n",
       "0         2011     0.75      Switzerland    3.75   Indonesia  \n",
       "1         2010     0.75      Switzerland    2.75  Madagascar  \n",
       "2         2010     0.75      Switzerland    2.75      Brazil  \n",
       "3         2013     0.72             U.K.    3.25    Trinidad  \n",
       "4         2012     0.72             U.K.    3.75    Colombia  "
      ]
     },
     "execution_count": 2,
     "metadata": {},
     "output_type": "execute_result"
    }
   ],
   "source": [
    "# Add your code below\n",
    "df = pd.read_csv('./data/flavors_cacao.csv')\n",
    "\n",
    "choco_df = df\n",
    "choco_df.head()"
   ]
  },
  {
   "cell_type": "markdown",
   "metadata": {},
   "source": [
    "**2. Using the `.loc` method, select the column `rating` for the rows of `df` where `company_location` equals `\"U.K.\"`**\n",
    "\n",
    "Store it in a variable called `uk_ratings`.\n",
    "\n",
    "Your answer should be a Pandas Series."
   ]
  },
  {
   "cell_type": "code",
   "execution_count": 3,
   "metadata": {
    "scrolled": true
   },
   "outputs": [
    {
     "data": {
      "text/plain": [
       "3      3.25\n",
       "4      3.75\n",
       "5      4.00\n",
       "6      2.75\n",
       "7      1.75\n",
       "       ... \n",
       "129    1.50\n",
       "130    3.50\n",
       "131    5.00\n",
       "132    3.00\n",
       "133    3.25\n",
       "Name: rating, Length: 96, dtype: float64"
      ]
     },
     "execution_count": 3,
     "metadata": {},
     "output_type": "execute_result"
    }
   ],
   "source": [
    "uk_ratings = df.loc[:,'rating'][df.company_location == 'U.K.']\n",
    "uk_ratings"
   ]
  },
  {
   "cell_type": "markdown",
   "metadata": {},
   "source": [
    "**3. Using the `.loc` method, select the column `rating` for the rows of `df` where `company_location` equals `\"Switzerland\"`**\n",
    "\n",
    "Store it in a variable called `swiss_ratings`"
   ]
  },
  {
   "cell_type": "code",
   "execution_count": 4,
   "metadata": {},
   "outputs": [
    {
     "data": {
      "text/plain": [
       "38"
      ]
     },
     "execution_count": 4,
     "metadata": {},
     "output_type": "execute_result"
    }
   ],
   "source": [
    "# Add your code below\n",
    "swiss_ratings = df.loc[:, 'rating'][df.company_location == 'Switzerland']\n",
    "len(swiss_ratings)"
   ]
  },
  {
   "cell_type": "markdown",
   "metadata": {},
   "source": [
    "**4. How many rows are in `uk_ratings`?** \n",
    "\n",
    "Store your answer in a variable called `uk_rows`"
   ]
  },
  {
   "cell_type": "code",
   "execution_count": 5,
   "metadata": {},
   "outputs": [
    {
     "data": {
      "text/plain": [
       "96"
      ]
     },
     "execution_count": 5,
     "metadata": {},
     "output_type": "execute_result"
    }
   ],
   "source": [
    "# Add your code below\n",
    "uk_rows = len(uk_ratings)\n",
    "uk_rows"
   ]
  },
  {
   "cell_type": "markdown",
   "metadata": {},
   "source": [
    "**5. What is the mean rating of the chocolate produced by companies in the UK?** \n",
    "\n",
    "Store your answer in a variable called `uk_mean_rating`"
   ]
  },
  {
   "cell_type": "code",
   "execution_count": 6,
   "metadata": {},
   "outputs": [
    {
     "data": {
      "text/plain": [
       "3.0729166666666665"
      ]
     },
     "execution_count": 6,
     "metadata": {},
     "output_type": "execute_result"
    }
   ],
   "source": [
    "# Add your code below\n",
    "uk_mean_rating = uk_ratings.mean()\n",
    "uk_mean_rating\n"
   ]
  },
  {
   "cell_type": "markdown",
   "metadata": {},
   "source": [
    "**6. What is the median rating of the chocolate produced by companies in the UK?** "
   ]
  },
  {
   "cell_type": "code",
   "execution_count": 7,
   "metadata": {},
   "outputs": [
    {
     "data": {
      "text/plain": [
       "3.0"
      ]
     },
     "execution_count": 7,
     "metadata": {},
     "output_type": "execute_result"
    }
   ],
   "source": [
    "# Add your code below\n",
    "uk_median_rating = uk_ratings.median()\n",
    "uk_median_rating"
   ]
  },
  {
   "cell_type": "markdown",
   "metadata": {},
   "source": [
    "**7. What is the Standard Error of the Mean (SEM) of the ratings of the chocolates produced by UK companies?** \n",
    "\n",
    "Store your answer in a variable called `uk_ratings_sem`\n",
    "\n",
    "*Hint: You can use the scipy `stats.sem` function*"
   ]
  },
  {
   "cell_type": "code",
   "execution_count": 8,
   "metadata": {},
   "outputs": [
    {
     "data": {
      "text/plain": [
       "0.05887708663316619"
      ]
     },
     "execution_count": 8,
     "metadata": {},
     "output_type": "execute_result"
    }
   ],
   "source": [
    "# Add your code below\n",
    "uk_ratings_sem = stats.sem(uk_ratings)\n",
    "uk_ratings_sem"
   ]
  },
  {
   "cell_type": "markdown",
   "metadata": {},
   "source": [
    "**8. How many rows are in `swiss_ratings`?** \n",
    "\n",
    "Store your answer in a variable called `swiss_rows`"
   ]
  },
  {
   "cell_type": "code",
   "execution_count": 9,
   "metadata": {},
   "outputs": [
    {
     "data": {
      "text/plain": [
       "38"
      ]
     },
     "execution_count": 9,
     "metadata": {},
     "output_type": "execute_result"
    }
   ],
   "source": [
    "# Add your code below\n",
    "swiss_rows = len(swiss_ratings)\n",
    "swiss_rows"
   ]
  },
  {
   "cell_type": "markdown",
   "metadata": {},
   "source": [
    "**9. What is the mean rating of the chocolate produced Swiss companies?** \n",
    "\n",
    "Store your answer in a variable called `swiss_mean_rating`"
   ]
  },
  {
   "cell_type": "code",
   "execution_count": 10,
   "metadata": {},
   "outputs": [
    {
     "data": {
      "text/plain": [
       "3.401315789473684"
      ]
     },
     "execution_count": 10,
     "metadata": {},
     "output_type": "execute_result"
    }
   ],
   "source": [
    "# Add your code below\n",
    "swiss_mean_rating = swiss_ratings.mean()\n",
    "swiss_mean_rating"
   ]
  },
  {
   "cell_type": "markdown",
   "metadata": {},
   "source": [
    "**10. What is the median rating of the chocolate produced Swiss companies?** \n",
    "\n",
    "Store your answer in a variable called `swiss_median_rating`"
   ]
  },
  {
   "cell_type": "code",
   "execution_count": 11,
   "metadata": {},
   "outputs": [
    {
     "data": {
      "text/plain": [
       "3.5"
      ]
     },
     "execution_count": 11,
     "metadata": {},
     "output_type": "execute_result"
    }
   ],
   "source": [
    "# Add your code below\n",
    "swiss_median_rating = swiss_ratings.median()\n",
    "swiss_median_rating"
   ]
  },
  {
   "cell_type": "markdown",
   "metadata": {},
   "source": [
    "**11. What is the Standard Error of the Mean (SEM) of the ratings of the chocolate produced Swiss companies?** \n",
    "\n",
    "Store your answer in a variable called `swiss_ratings_sem`\n",
    "\n",
    "*Hint: You can use the scipy `stats.sem` function*"
   ]
  },
  {
   "cell_type": "code",
   "execution_count": 12,
   "metadata": {},
   "outputs": [
    {
     "data": {
      "text/plain": [
       "0.08461877614533614"
      ]
     },
     "execution_count": 12,
     "metadata": {},
     "output_type": "execute_result"
    }
   ],
   "source": [
    "# Add your code below\n",
    "swiss_ratings_sem = stats.sem(swiss_ratings)\n",
    "swiss_ratings_sem"
   ]
  },
  {
   "cell_type": "markdown",
   "metadata": {},
   "source": [
    "**12. Use box plots to compare ratings from the UK and Switzerland**\n",
    "\n",
    "\n",
    "Use `sns.boxplot` to plot `rating` against `company_location` in order to compare national ratings. Ensure you save your plot to the variable `ratings_comp`.\n",
    "\n",
    "* Ensure the plot has the x-label 'Rating'\n",
    "* Ensure the plot has the y-label 'Location'\n"
   ]
  },
  {
   "cell_type": "code",
   "execution_count": 13,
   "metadata": {},
   "outputs": [
    {
     "data": {
      "text/plain": [
       "Text(0, 0.5, 'Location')"
      ]
     },
     "execution_count": 13,
     "metadata": {},
     "output_type": "execute_result"
    },
    {
     "data": {
      "image/png": "[encoded data removed]",
      "text/plain": [
       "<Figure size 640x480 with 1 Axes>"
      ]
     },
     "metadata": {},
     "output_type": "display_data"
    }
   ],
   "source": [
    "# Add your code below\n",
    "ratings_comp = sns.boxplot(data=df, x='rating', y='company_location')\n",
    "plt.xlabel('Rating')\n",
    "plt.ylabel('Location')"
   ]
  },
  {
   "cell_type": "markdown",
   "metadata": {},
   "source": [
    "### Outlier detection\n",
    "\n",
    "**Are there any outliers in our data that might be skewing our statistics?**\n",
    "\n",
    "An outlier is an extreme value that lies outside the overall pattern of the data.\n",
    "\n",
    "There are a number of different ways of determining outliers, depending on the nature of the data and the calculations that you are asked to carry out.\n",
    "\n",
    "Here we will use the definition that an outlier is any value that is:\n",
    "- either greater than $Q_{3} + 1.5(Q_{3}-Q_{1})$\n",
    "- or less than $Q_{1} - 1.5(Q_{3}-Q_{1})$\n",
    "\n",
    "where $Q_{3}$ is the upper quartile, and $Q_{1}$ is the lower quartile.\n",
    "\n",
    "<blockquote> Note: This is the default criteria in Seaborn used to mark outliers on boxplot diagrams like the one you created in the previous question </blockquote>"
   ]
  },
  {
   "cell_type": "markdown",
   "metadata": {},
   "source": [
    "**13. Define a function `find_outliers` which takes a dataframe as input and as output will return a list called `outliers` containing the outliers in the ratings which are determined using the  the above criteria. The dataframe can be assumed to be of the same format as `df` and contain a `rating` column.**\n",
    "\n",
    "*Hint: You can find Q3 and Q1 using the below  code*\n",
    "```python\n",
    "Q1 = df['rating'].quantile(0.25)\n",
    "Q3 = df['rating'].quantile(0.75)\n",
    "```"
   ]
  },
  {
   "cell_type": "code",
   "execution_count": 14,
   "metadata": {},
   "outputs": [],
   "source": [
    "# Add your code below\n",
    "def find_outliers(df):\n",
    "    outliers = []\n",
    "    Q1 = df['rating'].quantile(0.25)\n",
    "    Q3 = df['rating'].quantile(0.75)\n",
    "    interq_range = Q3 - Q1\n",
    "    lowerbound = Q1 -(1.5*interq_range)\n",
    "    ubound = Q3 +(1.5*interq_range)\n",
    "    for i in df['rating']:\n",
    "        if i > ubound:\n",
    "            outliers.append(i)\n",
    "        elif i < lowerbound:\n",
    "            outliers.append(i)\n",
    "    return outliers        \n"
   ]
  },
  {
   "cell_type": "code",
   "execution_count": 15,
   "metadata": {},
   "outputs": [
    {
     "data": {
      "text/plain": [
       "[4.75, 1.5, 5.0]"
      ]
     },
     "execution_count": 15,
     "metadata": {},
     "output_type": "execute_result"
    }
   ],
   "source": [
    "find_outliers(df)"
   ]
  },
  {
   "cell_type": "markdown",
   "metadata": {},
   "source": [
    "**14. Use your function to determine the outliers in the `choco_df` data, first filtering the dataframe so it contains only ratings from the UK**\n",
    "\n",
    "Store your answer (the output of the `find_outliers` function) in a variable called `uk_outliers`"
   ]
  },
  {
   "cell_type": "code",
   "execution_count": 16,
   "metadata": {},
   "outputs": [],
   "source": [
    "# Add your code below\n",
    "\n",
    "choco_df.country.value_counts()\n",
    "\n",
    "choco_df1 = choco_df[choco_df['company_location'] == 'U.K.']\n",
    "\n",
    "\n",
    "uk_outliers = find_outliers(choco_df1)\n",
    "# uk_outliers = find_outliers(chol_ratings)\n",
    "# uk_outliers\n"
   ]
  },
  {
   "cell_type": "markdown",
   "metadata": {},
   "source": [
    "**Well done for completing the assignment! As well as being able to calculate statistics, review distributions and graphs, it is also important to develop an understanding of what information we can draw from all of this. Post a comment to the Knowledge Base about a conclusion that you have been able to draw from the data as part of your work above.**"
   ]
  }
 ],
 "metadata": {
  "kernel_info": {
   "name": "python3"
  },
  "kernelspec": {
   "display_name": "Python 3 (ipykernel)",
   "language": "python",
   "name": "python3"
  },
  "language_info": {
   "codemirror_mode": {
    "name": "ipython",
    "version": 3
   },
   "file_extension": ".py",
   "mimetype": "text/x-python",
   "name": "python",
   "nbconvert_exporter": "python",
   "pygments_lexer": "ipython3",
   "version": "3.7.16"
  },
  "nteract": {
   "version": "0.15.0"
  }
 },
 "nbformat": 4,
 "nbformat_minor": 1
}
