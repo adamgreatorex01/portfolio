{
 "cells": [
  {
   "cell_type": "markdown",
   "metadata": {},
   "source": [
    "# Analysis of Daily Stock Price Data"
   ]
  },
  {
   "cell_type": "markdown",
   "metadata": {},
   "source": [
    "This was the first assignment using pandas, on the Cambrigde Spark Bootcamp 2023. Through this module, I learn't:\n",
    "- How to import the pandas library\n",
    "- Load in the dataset\n",
    "- View the first 5 rows, using the .head() method\n",
    "- Creating new columns - based on the pandas to_datetime function and applying the method for the new column\n",
    "- Finding stats from the dataset, such as the mean, min, and max.\n",
    "- Accesing rows using .loc and .iloc\n",
    "- Masking columns, through applying conditions to find specific row values\n",
    "- Create new data frames / copies of original data frame or masked data frame\n",
    "- Use set_index('', inplace=True) to set the specific column as the row index\n",
    "- Using the idxmax() method\n",
    "- Sorting a dataset based on columns, creating a subset of the df using .iloc to select desired rows\n",
    "- "
   ]
  },
  {
   "cell_type": "code",
   "execution_count": 13,
   "metadata": {
    "inputHidden": false,
    "outputHidden": false
   },
   "outputs": [],
   "source": [
    "#import libraries\n",
    "import pandas as pd"
   ]
  },
  {
   "cell_type": "markdown",
   "metadata": {},
   "source": [
    "load the dataset from `data/AAPL.csv` into a DataFrame."
   ]
  },
  {
   "cell_type": "code",
   "execution_count": 14,
   "metadata": {},
   "outputs": [
    {
     "data": {
      "text/html": [
       "<div>\n",
       "<style scoped>\n",
       "    .dataframe tbody tr th:only-of-type {\n",
       "        vertical-align: middle;\n",
       "    }\n",
       "\n",
       "    .dataframe tbody tr th {\n",
       "        vertical-align: top;\n",
       "    }\n",
       "\n",
       "    .dataframe thead th {\n",
       "        text-align: right;\n",
       "    }\n",
       "</style>\n",
       "<table border=\"1\" class=\"dataframe\">\n",
       "  <thead>\n",
       "    <tr style=\"text-align: right;\">\n",
       "      <th></th>\n",
       "      <th>Date</th>\n",
       "      <th>Open</th>\n",
       "      <th>High</th>\n",
       "      <th>Low</th>\n",
       "      <th>Close</th>\n",
       "      <th>Adj Close</th>\n",
       "      <th>Volume</th>\n",
       "    </tr>\n",
       "  </thead>\n",
       "  <tbody>\n",
       "    <tr>\n",
       "      <th>0</th>\n",
       "      <td>2015-06-30</td>\n",
       "      <td>125.570000</td>\n",
       "      <td>126.120003</td>\n",
       "      <td>124.860001</td>\n",
       "      <td>125.430000</td>\n",
       "      <td>115.597382</td>\n",
       "      <td>44370700</td>\n",
       "    </tr>\n",
       "    <tr>\n",
       "      <th>1</th>\n",
       "      <td>2015-07-01</td>\n",
       "      <td>126.900002</td>\n",
       "      <td>126.940002</td>\n",
       "      <td>125.989998</td>\n",
       "      <td>126.599998</td>\n",
       "      <td>116.675667</td>\n",
       "      <td>30238800</td>\n",
       "    </tr>\n",
       "    <tr>\n",
       "      <th>2</th>\n",
       "      <td>2015-07-02</td>\n",
       "      <td>126.430000</td>\n",
       "      <td>126.690002</td>\n",
       "      <td>125.769997</td>\n",
       "      <td>126.440002</td>\n",
       "      <td>116.528198</td>\n",
       "      <td>27211000</td>\n",
       "    </tr>\n",
       "    <tr>\n",
       "      <th>3</th>\n",
       "      <td>2015-07-06</td>\n",
       "      <td>124.940002</td>\n",
       "      <td>126.230003</td>\n",
       "      <td>124.849998</td>\n",
       "      <td>126.000000</td>\n",
       "      <td>116.122704</td>\n",
       "      <td>28060400</td>\n",
       "    </tr>\n",
       "    <tr>\n",
       "      <th>4</th>\n",
       "      <td>2015-07-07</td>\n",
       "      <td>125.889999</td>\n",
       "      <td>126.150002</td>\n",
       "      <td>123.769997</td>\n",
       "      <td>125.690002</td>\n",
       "      <td>115.837006</td>\n",
       "      <td>46946800</td>\n",
       "    </tr>\n",
       "  </tbody>\n",
       "</table>\n",
       "</div>"
      ],
      "text/plain": [
       "         Date        Open        High         Low       Close   Adj Close  \\\n",
       "0  2015-06-30  125.570000  126.120003  124.860001  125.430000  115.597382   \n",
       "1  2015-07-01  126.900002  126.940002  125.989998  126.599998  116.675667   \n",
       "2  2015-07-02  126.430000  126.690002  125.769997  126.440002  116.528198   \n",
       "3  2015-07-06  124.940002  126.230003  124.849998  126.000000  116.122704   \n",
       "4  2015-07-07  125.889999  126.150002  123.769997  125.690002  115.837006   \n",
       "\n",
       "     Volume  \n",
       "0  44370700  \n",
       "1  30238800  \n",
       "2  27211000  \n",
       "3  28060400  \n",
       "4  46946800  "
      ]
     },
     "execution_count": 14,
     "metadata": {},
     "output_type": "execute_result"
    }
   ],
   "source": [
    "df = pd.read_csv('data/AAPL.csv')\n",
    "df.head()"
   ]
  },
  {
   "cell_type": "markdown",
   "metadata": {},
   "source": [
    "This data, in its raw format, is the same as that which can be retrieved from a number of financial websites.\n",
    "\n",
    "Before starting the exercise, let's add some additional data columns, calculated from the raw data. Don't worry if you aren't familiar with the methods used in the following cell."
   ]
  },
  {
   "cell_type": "code",
   "execution_count": 15,
   "metadata": {},
   "outputs": [],
   "source": [
    "df['Date'] = pd.to_datetime(df['Date'])\n",
    "df['Year'] = df['Date'].dt.year\n",
    "df['Month'] = df['Date'].dt.month\n",
    "df['Day'] = df['Date'].dt.day\n",
    "df['Weekday'] = df['Date'].dt.day_name()\n",
    "df['Change %'] = (df['Adj Close'].pct_change() * 100)"
   ]
  },
  {
   "cell_type": "code",
   "execution_count": 16,
   "metadata": {},
   "outputs": [
    {
     "data": {
      "text/html": [
       "<div>\n",
       "<style scoped>\n",
       "    .dataframe tbody tr th:only-of-type {\n",
       "        vertical-align: middle;\n",
       "    }\n",
       "\n",
       "    .dataframe tbody tr th {\n",
       "        vertical-align: top;\n",
       "    }\n",
       "\n",
       "    .dataframe thead th {\n",
       "        text-align: right;\n",
       "    }\n",
       "</style>\n",
       "<table border=\"1\" class=\"dataframe\">\n",
       "  <thead>\n",
       "    <tr style=\"text-align: right;\">\n",
       "      <th></th>\n",
       "      <th>Date</th>\n",
       "      <th>Open</th>\n",
       "      <th>High</th>\n",
       "      <th>Low</th>\n",
       "      <th>Close</th>\n",
       "      <th>Adj Close</th>\n",
       "      <th>Volume</th>\n",
       "      <th>Year</th>\n",
       "      <th>Month</th>\n",
       "      <th>Day</th>\n",
       "      <th>Weekday</th>\n",
       "      <th>Change %</th>\n",
       "    </tr>\n",
       "  </thead>\n",
       "  <tbody>\n",
       "    <tr>\n",
       "      <th>0</th>\n",
       "      <td>2015-06-30</td>\n",
       "      <td>125.570000</td>\n",
       "      <td>126.120003</td>\n",
       "      <td>124.860001</td>\n",
       "      <td>125.430000</td>\n",
       "      <td>115.597382</td>\n",
       "      <td>44370700</td>\n",
       "      <td>2015</td>\n",
       "      <td>6</td>\n",
       "      <td>30</td>\n",
       "      <td>Tuesday</td>\n",
       "      <td>NaN</td>\n",
       "    </tr>\n",
       "    <tr>\n",
       "      <th>1</th>\n",
       "      <td>2015-07-01</td>\n",
       "      <td>126.900002</td>\n",
       "      <td>126.940002</td>\n",
       "      <td>125.989998</td>\n",
       "      <td>126.599998</td>\n",
       "      <td>116.675667</td>\n",
       "      <td>30238800</td>\n",
       "      <td>2015</td>\n",
       "      <td>7</td>\n",
       "      <td>1</td>\n",
       "      <td>Wednesday</td>\n",
       "      <td>0.932794</td>\n",
       "    </tr>\n",
       "    <tr>\n",
       "      <th>2</th>\n",
       "      <td>2015-07-02</td>\n",
       "      <td>126.430000</td>\n",
       "      <td>126.690002</td>\n",
       "      <td>125.769997</td>\n",
       "      <td>126.440002</td>\n",
       "      <td>116.528198</td>\n",
       "      <td>27211000</td>\n",
       "      <td>2015</td>\n",
       "      <td>7</td>\n",
       "      <td>2</td>\n",
       "      <td>Thursday</td>\n",
       "      <td>-0.126392</td>\n",
       "    </tr>\n",
       "    <tr>\n",
       "      <th>3</th>\n",
       "      <td>2015-07-06</td>\n",
       "      <td>124.940002</td>\n",
       "      <td>126.230003</td>\n",
       "      <td>124.849998</td>\n",
       "      <td>126.000000</td>\n",
       "      <td>116.122704</td>\n",
       "      <td>28060400</td>\n",
       "      <td>2015</td>\n",
       "      <td>7</td>\n",
       "      <td>6</td>\n",
       "      <td>Monday</td>\n",
       "      <td>-0.347979</td>\n",
       "    </tr>\n",
       "    <tr>\n",
       "      <th>4</th>\n",
       "      <td>2015-07-07</td>\n",
       "      <td>125.889999</td>\n",
       "      <td>126.150002</td>\n",
       "      <td>123.769997</td>\n",
       "      <td>125.690002</td>\n",
       "      <td>115.837006</td>\n",
       "      <td>46946800</td>\n",
       "      <td>2015</td>\n",
       "      <td>7</td>\n",
       "      <td>7</td>\n",
       "      <td>Tuesday</td>\n",
       "      <td>-0.246031</td>\n",
       "    </tr>\n",
       "  </tbody>\n",
       "</table>\n",
       "</div>"
      ],
      "text/plain": [
       "        Date        Open        High         Low       Close   Adj Close  \\\n",
       "0 2015-06-30  125.570000  126.120003  124.860001  125.430000  115.597382   \n",
       "1 2015-07-01  126.900002  126.940002  125.989998  126.599998  116.675667   \n",
       "2 2015-07-02  126.430000  126.690002  125.769997  126.440002  116.528198   \n",
       "3 2015-07-06  124.940002  126.230003  124.849998  126.000000  116.122704   \n",
       "4 2015-07-07  125.889999  126.150002  123.769997  125.690002  115.837006   \n",
       "\n",
       "     Volume  Year  Month  Day    Weekday  Change %  \n",
       "0  44370700  2015      6   30    Tuesday       NaN  \n",
       "1  30238800  2015      7    1  Wednesday  0.932794  \n",
       "2  27211000  2015      7    2   Thursday -0.126392  \n",
       "3  28060400  2015      7    6     Monday -0.347979  \n",
       "4  46946800  2015      7    7    Tuesday -0.246031  "
      ]
     },
     "execution_count": 16,
     "metadata": {},
     "output_type": "execute_result"
    }
   ],
   "source": [
    "df.head()"
   ]
  },
  {
   "cell_type": "markdown",
   "metadata": {},
   "source": [
    "Avoid modifying `df` itself in the subsequent questions."
   ]
  },
  {
   "cell_type": "markdown",
   "metadata": {},
   "source": [
    "## Dataset stats\n",
    "\n",
    "#### 1. What's the mean of the values in the `Adj Close` column?\n",
    "\n",
    "Store the answer in a variable called `mean_adj_close`"
   ]
  },
  {
   "cell_type": "code",
   "execution_count": 17,
   "metadata": {},
   "outputs": [
    {
     "data": {
      "text/plain": [
       "167.04975667513898"
      ]
     },
     "execution_count": 17,
     "metadata": {},
     "output_type": "execute_result"
    }
   ],
   "source": [
    "# Add your code below\n",
    "mean_adj_close = df['Adj Close'].mean()\n",
    "mean_adj_close"
   ]
  },
  {
   "cell_type": "markdown",
   "metadata": {},
   "source": [
    "#### 2. What's the minimum value in the `Low` column?\n",
    "\n",
    "Store the answer in a variable called `min_low`"
   ]
  },
  {
   "cell_type": "code",
   "execution_count": 18,
   "metadata": {},
   "outputs": [
    {
     "data": {
      "text/plain": [
       "89.470001"
      ]
     },
     "execution_count": 18,
     "metadata": {},
     "output_type": "execute_result"
    }
   ],
   "source": [
    "# Add your code below\n",
    "min_low = df['Low'].min()\n",
    "min_low"
   ]
  },
  {
   "cell_type": "markdown",
   "metadata": {},
   "source": [
    "#### 3. What's the maximum value in the `High` column?\n",
    "\n",
    "Store the answer in a variable called `max_high`"
   ]
  },
  {
   "cell_type": "code",
   "execution_count": 19,
   "metadata": {},
   "outputs": [
    {
     "data": {
      "text/plain": [
       "372.380005"
      ]
     },
     "execution_count": 19,
     "metadata": {},
     "output_type": "execute_result"
    }
   ],
   "source": [
    "# Add your code below\n",
    "max_high = df['High'].max()\n",
    "max_high"
   ]
  },
  {
   "cell_type": "markdown",
   "metadata": {},
   "source": [
    "#### 4. What's the difference between `min_low` and `max_high`?  \n",
    "\n",
    "Store the answer in a variable called `price_range`"
   ]
  },
  {
   "cell_type": "code",
   "execution_count": 20,
   "metadata": {},
   "outputs": [
    {
     "data": {
      "text/plain": [
       "282.91000399999996"
      ]
     },
     "execution_count": 20,
     "metadata": {},
     "output_type": "execute_result"
    }
   ],
   "source": [
    "# Add your code below\n",
    "price_range = max_high - min_low\n",
    "price_range"
   ]
  },
  {
   "cell_type": "markdown",
   "metadata": {},
   "source": [
    "#### 5. How many rows are there in the DataFrame?\n",
    "\n",
    "Store the answer in a variable called `entries`"
   ]
  },
  {
   "cell_type": "code",
   "execution_count": 21,
   "metadata": {},
   "outputs": [
    {
     "data": {
      "text/plain": [
       "1259"
      ]
     },
     "execution_count": 21,
     "metadata": {},
     "output_type": "execute_result"
    }
   ],
   "source": [
    "# Add your code below\n",
    "entries = df.shape[0]\n",
    "entries"
   ]
  },
  {
   "cell_type": "markdown",
   "metadata": {},
   "source": [
    "#### 6. On how many days (i.e. number of rows) was `Change %` greater than zero?\n",
    "\n",
    "Store the answer in a variable called `positive_days`"
   ]
  },
  {
   "cell_type": "code",
   "execution_count": 22,
   "metadata": {},
   "outputs": [
    {
     "data": {
      "text/plain": [
       "671"
      ]
     },
     "execution_count": 22,
     "metadata": {},
     "output_type": "execute_result"
    }
   ],
   "source": [
    "# Add your code \n",
    "#I firstly filtered to the column needed, I then created the condition to find the value, and then \n",
    "# wrapped this in the len function to find the number of rows.\n",
    "positive_days = len(df[df['Change %'] > 0])\n",
    "positive_days"
   ]
  },
  {
   "cell_type": "markdown",
   "metadata": {},
   "source": [
    "#### 7. On how many days (i.e. number of rows) has `Adj Close` been greater than the value in the final row?\n",
    "\n",
    "Store the answer in a variable called `days_higher`\n",
    "\n",
    "*Hint: we can use list indexing with `.iloc` e.g. `.iloc[-1]` to get the last value in a Series, such as a specific column of a DataFrame*"
   ]
  },
  {
   "cell_type": "code",
   "execution_count": 23,
   "metadata": {},
   "outputs": [
    {
     "data": {
      "text/plain": [
       "2"
      ]
     },
     "execution_count": 23,
     "metadata": {},
     "output_type": "execute_result"
    }
   ],
   "source": [
    "# similar to the code above, i located the value we were looking for (in this case the value in the last row)\n",
    "# I then set the condtion to find values greater than the last row, and then used len() to count how many values there were.\n",
    "days_higher = len(df[df['Adj Close'] > df['Adj Close'].iloc[-1]])\n",
    "days_higher\n"
   ]
  },
  {
   "cell_type": "markdown",
   "metadata": {},
   "source": [
    "## Dataset sorting and filtering"
   ]
  },
  {
   "cell_type": "markdown",
   "metadata": {},
   "source": [
    "#### 8. Create a new DataFrame called `df_2020` which is the same as `df` but contains only the rows where `Year == 2020`. \n",
    "\n",
    "Use `set_index('Date', inplace=True)` to set the `Date` column as the row index."
   ]
  },
  {
   "cell_type": "code",
   "execution_count": 24,
   "metadata": {},
   "outputs": [
    {
     "data": {
      "text/html": [
       "<div>\n",
       "<style scoped>\n",
       "    .dataframe tbody tr th:only-of-type {\n",
       "        vertical-align: middle;\n",
       "    }\n",
       "\n",
       "    .dataframe tbody tr th {\n",
       "        vertical-align: top;\n",
       "    }\n",
       "\n",
       "    .dataframe thead th {\n",
       "        text-align: right;\n",
       "    }\n",
       "</style>\n",
       "<table border=\"1\" class=\"dataframe\">\n",
       "  <thead>\n",
       "    <tr style=\"text-align: right;\">\n",
       "      <th></th>\n",
       "      <th>Open</th>\n",
       "      <th>High</th>\n",
       "      <th>Low</th>\n",
       "      <th>Close</th>\n",
       "      <th>Adj Close</th>\n",
       "      <th>Volume</th>\n",
       "      <th>Year</th>\n",
       "      <th>Month</th>\n",
       "      <th>Day</th>\n",
       "      <th>Weekday</th>\n",
       "      <th>Change %</th>\n",
       "    </tr>\n",
       "    <tr>\n",
       "      <th>Date</th>\n",
       "      <th></th>\n",
       "      <th></th>\n",
       "      <th></th>\n",
       "      <th></th>\n",
       "      <th></th>\n",
       "      <th></th>\n",
       "      <th></th>\n",
       "      <th></th>\n",
       "      <th></th>\n",
       "      <th></th>\n",
       "      <th></th>\n",
       "    </tr>\n",
       "  </thead>\n",
       "  <tbody>\n",
       "    <tr>\n",
       "      <th>2020-01-02</th>\n",
       "      <td>296.239990</td>\n",
       "      <td>300.600006</td>\n",
       "      <td>295.190002</td>\n",
       "      <td>300.350006</td>\n",
       "      <td>298.829956</td>\n",
       "      <td>33870100</td>\n",
       "      <td>2020</td>\n",
       "      <td>1</td>\n",
       "      <td>2</td>\n",
       "      <td>Thursday</td>\n",
       "      <td>2.281644</td>\n",
       "    </tr>\n",
       "    <tr>\n",
       "      <th>2020-01-03</th>\n",
       "      <td>297.149994</td>\n",
       "      <td>300.579987</td>\n",
       "      <td>296.500000</td>\n",
       "      <td>297.429993</td>\n",
       "      <td>295.924713</td>\n",
       "      <td>36580700</td>\n",
       "      <td>2020</td>\n",
       "      <td>1</td>\n",
       "      <td>3</td>\n",
       "      <td>Friday</td>\n",
       "      <td>-0.972206</td>\n",
       "    </tr>\n",
       "    <tr>\n",
       "      <th>2020-01-06</th>\n",
       "      <td>293.790009</td>\n",
       "      <td>299.959991</td>\n",
       "      <td>292.750000</td>\n",
       "      <td>299.799988</td>\n",
       "      <td>298.282715</td>\n",
       "      <td>29596800</td>\n",
       "      <td>2020</td>\n",
       "      <td>1</td>\n",
       "      <td>6</td>\n",
       "      <td>Monday</td>\n",
       "      <td>0.796825</td>\n",
       "    </tr>\n",
       "    <tr>\n",
       "      <th>2020-01-07</th>\n",
       "      <td>299.839996</td>\n",
       "      <td>300.899994</td>\n",
       "      <td>297.480011</td>\n",
       "      <td>298.390015</td>\n",
       "      <td>296.879883</td>\n",
       "      <td>27218000</td>\n",
       "      <td>2020</td>\n",
       "      <td>1</td>\n",
       "      <td>7</td>\n",
       "      <td>Tuesday</td>\n",
       "      <td>-0.470303</td>\n",
       "    </tr>\n",
       "    <tr>\n",
       "      <th>2020-01-08</th>\n",
       "      <td>297.160004</td>\n",
       "      <td>304.440002</td>\n",
       "      <td>297.160004</td>\n",
       "      <td>303.190002</td>\n",
       "      <td>301.655548</td>\n",
       "      <td>33019800</td>\n",
       "      <td>2020</td>\n",
       "      <td>1</td>\n",
       "      <td>8</td>\n",
       "      <td>Wednesday</td>\n",
       "      <td>1.608619</td>\n",
       "    </tr>\n",
       "    <tr>\n",
       "      <th>2020-01-09</th>\n",
       "      <td>307.239990</td>\n",
       "      <td>310.429993</td>\n",
       "      <td>306.200012</td>\n",
       "      <td>309.630005</td>\n",
       "      <td>308.062988</td>\n",
       "      <td>42527100</td>\n",
       "      <td>2020</td>\n",
       "      <td>1</td>\n",
       "      <td>9</td>\n",
       "      <td>Thursday</td>\n",
       "      <td>2.124092</td>\n",
       "    </tr>\n",
       "    <tr>\n",
       "      <th>2020-01-10</th>\n",
       "      <td>310.600006</td>\n",
       "      <td>312.670013</td>\n",
       "      <td>308.250000</td>\n",
       "      <td>310.329987</td>\n",
       "      <td>308.759399</td>\n",
       "      <td>35161200</td>\n",
       "      <td>2020</td>\n",
       "      <td>1</td>\n",
       "      <td>10</td>\n",
       "      <td>Friday</td>\n",
       "      <td>0.226061</td>\n",
       "    </tr>\n",
       "    <tr>\n",
       "      <th>2020-01-13</th>\n",
       "      <td>311.640015</td>\n",
       "      <td>317.070007</td>\n",
       "      <td>311.149994</td>\n",
       "      <td>316.959991</td>\n",
       "      <td>315.355865</td>\n",
       "      <td>30383000</td>\n",
       "      <td>2020</td>\n",
       "      <td>1</td>\n",
       "      <td>13</td>\n",
       "      <td>Monday</td>\n",
       "      <td>2.136442</td>\n",
       "    </tr>\n",
       "    <tr>\n",
       "      <th>2020-01-14</th>\n",
       "      <td>316.700012</td>\n",
       "      <td>317.570007</td>\n",
       "      <td>312.170013</td>\n",
       "      <td>312.679993</td>\n",
       "      <td>311.097534</td>\n",
       "      <td>40488600</td>\n",
       "      <td>2020</td>\n",
       "      <td>1</td>\n",
       "      <td>14</td>\n",
       "      <td>Tuesday</td>\n",
       "      <td>-1.350326</td>\n",
       "    </tr>\n",
       "    <tr>\n",
       "      <th>2020-01-15</th>\n",
       "      <td>311.850006</td>\n",
       "      <td>315.500000</td>\n",
       "      <td>309.549988</td>\n",
       "      <td>311.339996</td>\n",
       "      <td>309.764313</td>\n",
       "      <td>30480900</td>\n",
       "      <td>2020</td>\n",
       "      <td>1</td>\n",
       "      <td>15</td>\n",
       "      <td>Wednesday</td>\n",
       "      <td>-0.428554</td>\n",
       "    </tr>\n",
       "  </tbody>\n",
       "</table>\n",
       "</div>"
      ],
      "text/plain": [
       "                  Open        High         Low       Close   Adj Close  \\\n",
       "Date                                                                     \n",
       "2020-01-02  296.239990  300.600006  295.190002  300.350006  298.829956   \n",
       "2020-01-03  297.149994  300.579987  296.500000  297.429993  295.924713   \n",
       "2020-01-06  293.790009  299.959991  292.750000  299.799988  298.282715   \n",
       "2020-01-07  299.839996  300.899994  297.480011  298.390015  296.879883   \n",
       "2020-01-08  297.160004  304.440002  297.160004  303.190002  301.655548   \n",
       "2020-01-09  307.239990  310.429993  306.200012  309.630005  308.062988   \n",
       "2020-01-10  310.600006  312.670013  308.250000  310.329987  308.759399   \n",
       "2020-01-13  311.640015  317.070007  311.149994  316.959991  315.355865   \n",
       "2020-01-14  316.700012  317.570007  312.170013  312.679993  311.097534   \n",
       "2020-01-15  311.850006  315.500000  309.549988  311.339996  309.764313   \n",
       "\n",
       "              Volume  Year  Month  Day    Weekday  Change %  \n",
       "Date                                                         \n",
       "2020-01-02  33870100  2020      1    2   Thursday  2.281644  \n",
       "2020-01-03  36580700  2020      1    3     Friday -0.972206  \n",
       "2020-01-06  29596800  2020      1    6     Monday  0.796825  \n",
       "2020-01-07  27218000  2020      1    7    Tuesday -0.470303  \n",
       "2020-01-08  33019800  2020      1    8  Wednesday  1.608619  \n",
       "2020-01-09  42527100  2020      1    9   Thursday  2.124092  \n",
       "2020-01-10  35161200  2020      1   10     Friday  0.226061  \n",
       "2020-01-13  30383000  2020      1   13     Monday  2.136442  \n",
       "2020-01-14  40488600  2020      1   14    Tuesday -1.350326  \n",
       "2020-01-15  30480900  2020      1   15  Wednesday -0.428554  "
      ]
     },
     "execution_count": 24,
     "metadata": {},
     "output_type": "execute_result"
    }
   ],
   "source": [
    "# Add your code below\n",
    "df_2020 = df[df['Year']== 2020].copy()\n",
    "df_2020.set_index('Date', inplace=True)\n",
    "df_2020.head(10)\n"
   ]
  },
  {
   "cell_type": "markdown",
   "metadata": {},
   "source": [
    "#### 9. Continuing with `df_2020`, calculate the `.mean()` of `Change %` for entries where `Weekday == Monday`.\n",
    "\n",
    "Store the value in a variable called `mean_change_mon_2020`."
   ]
  },
  {
   "cell_type": "code",
   "execution_count": 25,
   "metadata": {},
   "outputs": [],
   "source": [
    "# Add your code below\n",
    "# I created a variable name and assigned this to the new masked data frame which contained values for a Monday only\n",
    "# Using this new df, I then found the mean for the column 'Change % '.\n",
    "mean_change_mon_2020_col = df_2020[df_2020['Weekday'] == 'Monday'].copy()\n",
    "mean_change_mon_2020 = mean_change_mon_2020_col['Change %'].mean()"
   ]
  },
  {
   "cell_type": "markdown",
   "metadata": {},
   "source": [
    "When you have calculated `mean_change_mon_2020`, uncomment and run the cell below to view its value:"
   ]
  },
  {
   "cell_type": "code",
   "execution_count": 26,
   "metadata": {},
   "outputs": [
    {
     "data": {
      "text/plain": [
       "0.2918877852311579"
      ]
     },
     "execution_count": 26,
     "metadata": {},
     "output_type": "execute_result"
    }
   ],
   "source": [
    "mean_change_mon_2020"
   ]
  },
  {
   "cell_type": "markdown",
   "metadata": {},
   "source": [
    "#### 10. Calculate the sum of the `Volume` column in `df_2020` for entries where `Month == 3`.\n",
    "\n",
    "Store the value in a variable called `total_volume_march_2020`."
   ]
  },
  {
   "cell_type": "code",
   "execution_count": 37,
   "metadata": {},
   "outputs": [],
   "source": [
    "# Add your code below\n",
    "# using the same process as above\n",
    "march_2020 = df_2020[df_2020['Month'] == 3]\n",
    "total_volume_march_2020 = march_2020['Volume'].sum()"
   ]
  },
  {
   "cell_type": "markdown",
   "metadata": {},
   "source": [
    "When you have calculated `total_volume_march_2020`, uncomment and run the cell below to view its value:"
   ]
  },
  {
   "cell_type": "code",
   "execution_count": 28,
   "metadata": {},
   "outputs": [
    {
     "data": {
      "text/plain": [
       "1570018100"
      ]
     },
     "execution_count": 28,
     "metadata": {},
     "output_type": "execute_result"
    }
   ],
   "source": [
    "total_volume_march_2020"
   ]
  },
  {
   "cell_type": "markdown",
   "metadata": {},
   "source": [
    "#### 11. Using `df_2020`, determine when `Adj Close` was the highest.\n",
    "\n",
    "- look at the [documentation](https://pandas.pydata.org/pandas-docs/stable/reference/api/pandas.DataFrame.idxmax.html) for the `.idxmax()` method and use it for this task \n",
    "- this will only work if the row index has been set to the `Date` as instructed earlier in the assignment\n",
    "\n",
    "Store the value in a variable called `year_high_timestamp`\n"
   ]
  },
  {
   "cell_type": "code",
   "execution_count": 47,
   "metadata": {},
   "outputs": [
    {
     "name": "stdout",
     "output_type": "stream",
     "text": [
      "<class 'pandas.core.frame.DataFrame'>\n",
      "DatetimeIndex: 124 entries, 2020-01-02 to 2020-06-29\n",
      "Data columns (total 10 columns):\n",
      " #   Column     Non-Null Count  Dtype  \n",
      "---  ------     --------------  -----  \n",
      " 0   Open       124 non-null    float64\n",
      " 1   High       124 non-null    float64\n",
      " 2   Low        124 non-null    float64\n",
      " 3   Close      124 non-null    float64\n",
      " 4   Adj Close  124 non-null    float64\n",
      " 5   Volume     124 non-null    int64  \n",
      " 6   Year       124 non-null    int64  \n",
      " 7   Month      124 non-null    int64  \n",
      " 8   Day        124 non-null    int64  \n",
      " 9   Change %   124 non-null    float64\n",
      "dtypes: float64(6), int64(4)\n",
      "memory usage: 10.7 KB\n"
     ]
    },
    {
     "data": {
      "text/plain": [
       "Open        2020-06-24\n",
       "High        2020-06-23\n",
       "Low         2020-06-23\n",
       "Close       2020-06-23\n",
       "Adj Close   2020-06-23\n",
       "Volume      2020-02-28\n",
       "Year        2020-01-02\n",
       "Month       2020-06-01\n",
       "Day         2020-01-31\n",
       "Change %    2020-03-13\n",
       "dtype: datetime64[ns]"
      ]
     },
     "execution_count": 47,
     "metadata": {},
     "output_type": "execute_result"
    }
   ],
   "source": [
    "# Add your code below\n",
    "# here i selected a subset of the DataFrame's columns based on the column dtypes - in this case i wanted numeric only\n",
    "df_2020_numeric = df_2020.select_dtypes('number')\n",
    "# i checked if this had worked using .info()\n",
    "df_2020_numeric.info()\n",
    "# i then reaserched the idxmax method (which I later learnt returned the first instance of the max value in each column.\n",
    "# if wanted to produce the actualspecific column, i would use .iloc on the end e.g:  df_2020_numeric.idxmax().iloc[4])\n",
    "year_high_timestamp = df_2020_numeric.idxmax()\n",
    "year_high_timestamp"
   ]
  },
  {
   "cell_type": "markdown",
   "metadata": {},
   "source": [
    "#### 12. Create a DataFrame called `df_top_10` which contains the 10 entries from `df` with the highest positive `Change %` values.\n",
    "- consider all entries in `df` rather than `df_2020`\n",
    "- remember to avoid modifying `df` or any other stored DataFrames \n",
    "- `.copy()` can be used to copy a DataFrame to a new variable"
   ]
  },
  {
   "cell_type": "code",
   "execution_count": 50,
   "metadata": {},
   "outputs": [
    {
     "data": {
      "text/html": [
       "<div>\n",
       "<style scoped>\n",
       "    .dataframe tbody tr th:only-of-type {\n",
       "        vertical-align: middle;\n",
       "    }\n",
       "\n",
       "    .dataframe tbody tr th {\n",
       "        vertical-align: top;\n",
       "    }\n",
       "\n",
       "    .dataframe thead th {\n",
       "        text-align: right;\n",
       "    }\n",
       "</style>\n",
       "<table border=\"1\" class=\"dataframe\">\n",
       "  <thead>\n",
       "    <tr style=\"text-align: right;\">\n",
       "      <th></th>\n",
       "      <th>Date</th>\n",
       "      <th>Open</th>\n",
       "      <th>High</th>\n",
       "      <th>Low</th>\n",
       "      <th>Close</th>\n",
       "      <th>Adj Close</th>\n",
       "      <th>Volume</th>\n",
       "      <th>Year</th>\n",
       "      <th>Month</th>\n",
       "      <th>Day</th>\n",
       "      <th>Weekday</th>\n",
       "      <th>Change %</th>\n",
       "    </tr>\n",
       "  </thead>\n",
       "  <tbody>\n",
       "    <tr>\n",
       "      <th>1184</th>\n",
       "      <td>2020-03-13</td>\n",
       "      <td>264.890015</td>\n",
       "      <td>279.920013</td>\n",
       "      <td>252.949997</td>\n",
       "      <td>277.970001</td>\n",
       "      <td>277.219574</td>\n",
       "      <td>92683000</td>\n",
       "      <td>2020</td>\n",
       "      <td>3</td>\n",
       "      <td>13</td>\n",
       "      <td>Friday</td>\n",
       "      <td>11.980825</td>\n",
       "    </tr>\n",
       "    <tr>\n",
       "      <th>1191</th>\n",
       "      <td>2020-03-24</td>\n",
       "      <td>236.360001</td>\n",
       "      <td>247.690002</td>\n",
       "      <td>234.300003</td>\n",
       "      <td>246.880005</td>\n",
       "      <td>246.213516</td>\n",
       "      <td>71882800</td>\n",
       "      <td>2020</td>\n",
       "      <td>3</td>\n",
       "      <td>24</td>\n",
       "      <td>Tuesday</td>\n",
       "      <td>10.032544</td>\n",
       "    </tr>\n",
       "    <tr>\n",
       "      <th>1175</th>\n",
       "      <td>2020-03-02</td>\n",
       "      <td>282.279999</td>\n",
       "      <td>301.440002</td>\n",
       "      <td>277.720001</td>\n",
       "      <td>298.809998</td>\n",
       "      <td>298.003296</td>\n",
       "      <td>85349300</td>\n",
       "      <td>2020</td>\n",
       "      <td>3</td>\n",
       "      <td>2</td>\n",
       "      <td>Monday</td>\n",
       "      <td>9.310065</td>\n",
       "    </tr>\n",
       "    <tr>\n",
       "      <th>1200</th>\n",
       "      <td>2020-04-06</td>\n",
       "      <td>250.899994</td>\n",
       "      <td>263.109985</td>\n",
       "      <td>249.380005</td>\n",
       "      <td>262.470001</td>\n",
       "      <td>261.761414</td>\n",
       "      <td>50455100</td>\n",
       "      <td>2020</td>\n",
       "      <td>4</td>\n",
       "      <td>6</td>\n",
       "      <td>Monday</td>\n",
       "      <td>8.723748</td>\n",
       "    </tr>\n",
       "    <tr>\n",
       "      <th>1181</th>\n",
       "      <td>2020-03-10</td>\n",
       "      <td>277.140015</td>\n",
       "      <td>286.440002</td>\n",
       "      <td>269.369995</td>\n",
       "      <td>285.339996</td>\n",
       "      <td>284.569672</td>\n",
       "      <td>71322500</td>\n",
       "      <td>2020</td>\n",
       "      <td>3</td>\n",
       "      <td>10</td>\n",
       "      <td>Tuesday</td>\n",
       "      <td>7.202155</td>\n",
       "    </tr>\n",
       "    <tr>\n",
       "      <th>879</th>\n",
       "      <td>2018-12-26</td>\n",
       "      <td>148.300003</td>\n",
       "      <td>157.229996</td>\n",
       "      <td>146.720001</td>\n",
       "      <td>157.169998</td>\n",
       "      <td>154.059814</td>\n",
       "      <td>58582500</td>\n",
       "      <td>2018</td>\n",
       "      <td>12</td>\n",
       "      <td>26</td>\n",
       "      <td>Wednesday</td>\n",
       "      <td>7.042139</td>\n",
       "    </tr>\n",
       "    <tr>\n",
       "      <th>902</th>\n",
       "      <td>2019-01-30</td>\n",
       "      <td>163.250000</td>\n",
       "      <td>166.149994</td>\n",
       "      <td>160.229996</td>\n",
       "      <td>165.250000</td>\n",
       "      <td>161.979935</td>\n",
       "      <td>61109800</td>\n",
       "      <td>2019</td>\n",
       "      <td>1</td>\n",
       "      <td>30</td>\n",
       "      <td>Wednesday</td>\n",
       "      <td>6.833477</td>\n",
       "    </tr>\n",
       "    <tr>\n",
       "      <th>271</th>\n",
       "      <td>2016-07-27</td>\n",
       "      <td>104.269997</td>\n",
       "      <td>104.349998</td>\n",
       "      <td>102.750000</td>\n",
       "      <td>102.949997</td>\n",
       "      <td>96.822357</td>\n",
       "      <td>92344800</td>\n",
       "      <td>2016</td>\n",
       "      <td>7</td>\n",
       "      <td>27</td>\n",
       "      <td>Wednesday</td>\n",
       "      <td>6.496310</td>\n",
       "    </tr>\n",
       "    <tr>\n",
       "      <th>401</th>\n",
       "      <td>2017-02-01</td>\n",
       "      <td>127.029999</td>\n",
       "      <td>130.490005</td>\n",
       "      <td>127.010002</td>\n",
       "      <td>128.750000</td>\n",
       "      <td>122.367752</td>\n",
       "      <td>111985000</td>\n",
       "      <td>2017</td>\n",
       "      <td>2</td>\n",
       "      <td>1</td>\n",
       "      <td>Wednesday</td>\n",
       "      <td>6.098075</td>\n",
       "    </tr>\n",
       "    <tr>\n",
       "      <th>778</th>\n",
       "      <td>2018-08-01</td>\n",
       "      <td>199.130005</td>\n",
       "      <td>201.759995</td>\n",
       "      <td>197.309998</td>\n",
       "      <td>201.500000</td>\n",
       "      <td>196.137955</td>\n",
       "      <td>67935700</td>\n",
       "      <td>2018</td>\n",
       "      <td>8</td>\n",
       "      <td>1</td>\n",
       "      <td>Wednesday</td>\n",
       "      <td>5.891019</td>\n",
       "    </tr>\n",
       "  </tbody>\n",
       "</table>\n",
       "</div>"
      ],
      "text/plain": [
       "           Date        Open        High         Low       Close   Adj Close  \\\n",
       "1184 2020-03-13  264.890015  279.920013  252.949997  277.970001  277.219574   \n",
       "1191 2020-03-24  236.360001  247.690002  234.300003  246.880005  246.213516   \n",
       "1175 2020-03-02  282.279999  301.440002  277.720001  298.809998  298.003296   \n",
       "1200 2020-04-06  250.899994  263.109985  249.380005  262.470001  261.761414   \n",
       "1181 2020-03-10  277.140015  286.440002  269.369995  285.339996  284.569672   \n",
       "879  2018-12-26  148.300003  157.229996  146.720001  157.169998  154.059814   \n",
       "902  2019-01-30  163.250000  166.149994  160.229996  165.250000  161.979935   \n",
       "271  2016-07-27  104.269997  104.349998  102.750000  102.949997   96.822357   \n",
       "401  2017-02-01  127.029999  130.490005  127.010002  128.750000  122.367752   \n",
       "778  2018-08-01  199.130005  201.759995  197.309998  201.500000  196.137955   \n",
       "\n",
       "         Volume  Year  Month  Day    Weekday   Change %  \n",
       "1184   92683000  2020      3   13     Friday  11.980825  \n",
       "1191   71882800  2020      3   24    Tuesday  10.032544  \n",
       "1175   85349300  2020      3    2     Monday   9.310065  \n",
       "1200   50455100  2020      4    6     Monday   8.723748  \n",
       "1181   71322500  2020      3   10    Tuesday   7.202155  \n",
       "879    58582500  2018     12   26  Wednesday   7.042139  \n",
       "902    61109800  2019      1   30  Wednesday   6.833477  \n",
       "271    92344800  2016      7   27  Wednesday   6.496310  \n",
       "401   111985000  2017      2    1  Wednesday   6.098075  \n",
       "778    67935700  2018      8    1  Wednesday   5.891019  "
      ]
     },
     "execution_count": 50,
     "metadata": {},
     "output_type": "execute_result"
    }
   ],
   "source": [
    "#sorting values by a column - changing ascending to false (highest first), to then select only the first 10 rows for the new df.\n",
    "df_top_10 = df.sort_values(by='Change %', ascending=False).iloc[0:10].copy()\n",
    "df_top_10"
   ]
  },
  {
   "cell_type": "markdown",
   "metadata": {},
   "source": [
    "#### 13. How many entries in `df_top_10` were *not* on a Monday?\n",
    "Store the value in a variable called `top_10_not_mon`"
   ]
  },
  {
   "cell_type": "code",
   "execution_count": 41,
   "metadata": {},
   "outputs": [],
   "source": [
    "top_10_not_mon = len(df_top_10[df_top_10['Weekday'] != 'Monday'])\n"
   ]
  },
  {
   "cell_type": "markdown",
   "metadata": {},
   "source": [
    "When you have calculate `top_10_not_mon`, uncomment and run the cell below to inspect it:"
   ]
  },
  {
   "cell_type": "code",
   "execution_count": 32,
   "metadata": {},
   "outputs": [
    {
     "data": {
      "text/plain": [
       "8"
      ]
     },
     "execution_count": 32,
     "metadata": {},
     "output_type": "execute_result"
    }
   ],
   "source": [
    "top_10_not_mon"
   ]
  },
  {
   "cell_type": "markdown",
   "metadata": {},
   "source": [
    "## Dataset manipulation"
   ]
  },
  {
   "cell_type": "markdown",
   "metadata": {},
   "source": [
    "#### 14. Create a new DataFrame called `df_var`, which the same as `df` but with an additional column `Variation %`, which is equal to:\n",
    "\n",
    "((`High` - `Low`) / `Close`) * 100\n",
    "\n",
    "- be sure to use `Close` rather than `Adj Close` in this question\n",
    "- do not modify `df` but create a copy: `df_var = df.copy()`"
   ]
  },
  {
   "cell_type": "code",
   "execution_count": 33,
   "metadata": {
    "scrolled": true
   },
   "outputs": [],
   "source": [
    " #Add your code below\n",
    "#created new df\n",
    "df_var = df.copy()\n",
    "# created new column which is equal to the below calculation\n",
    "df_var['Variation %'] = ((df_var['High'] - df_var['Low']) / df_var['Close']) * 100"
   ]
  },
  {
   "cell_type": "markdown",
   "metadata": {},
   "source": [
    "Once you have calculated `df_var`, you can uncomment and run the cell below to inspect it:"
   ]
  },
  {
   "cell_type": "code",
   "execution_count": 34,
   "metadata": {},
   "outputs": [
    {
     "data": {
      "text/html": [
       "<div>\n",
       "<style scoped>\n",
       "    .dataframe tbody tr th:only-of-type {\n",
       "        vertical-align: middle;\n",
       "    }\n",
       "\n",
       "    .dataframe tbody tr th {\n",
       "        vertical-align: top;\n",
       "    }\n",
       "\n",
       "    .dataframe thead th {\n",
       "        text-align: right;\n",
       "    }\n",
       "</style>\n",
       "<table border=\"1\" class=\"dataframe\">\n",
       "  <thead>\n",
       "    <tr style=\"text-align: right;\">\n",
       "      <th></th>\n",
       "      <th>Date</th>\n",
       "      <th>Open</th>\n",
       "      <th>High</th>\n",
       "      <th>Low</th>\n",
       "      <th>Close</th>\n",
       "      <th>Adj Close</th>\n",
       "      <th>Volume</th>\n",
       "      <th>Year</th>\n",
       "      <th>Month</th>\n",
       "      <th>Day</th>\n",
       "      <th>Weekday</th>\n",
       "      <th>Change %</th>\n",
       "      <th>Variation %</th>\n",
       "    </tr>\n",
       "  </thead>\n",
       "  <tbody>\n",
       "    <tr>\n",
       "      <th>0</th>\n",
       "      <td>2015-06-30</td>\n",
       "      <td>125.570000</td>\n",
       "      <td>126.120003</td>\n",
       "      <td>124.860001</td>\n",
       "      <td>125.430000</td>\n",
       "      <td>115.597382</td>\n",
       "      <td>44370700</td>\n",
       "      <td>2015</td>\n",
       "      <td>6</td>\n",
       "      <td>30</td>\n",
       "      <td>Tuesday</td>\n",
       "      <td>NaN</td>\n",
       "      <td>1.004546</td>\n",
       "    </tr>\n",
       "    <tr>\n",
       "      <th>1</th>\n",
       "      <td>2015-07-01</td>\n",
       "      <td>126.900002</td>\n",
       "      <td>126.940002</td>\n",
       "      <td>125.989998</td>\n",
       "      <td>126.599998</td>\n",
       "      <td>116.675667</td>\n",
       "      <td>30238800</td>\n",
       "      <td>2015</td>\n",
       "      <td>7</td>\n",
       "      <td>1</td>\n",
       "      <td>Wednesday</td>\n",
       "      <td>0.932794</td>\n",
       "      <td>0.750398</td>\n",
       "    </tr>\n",
       "    <tr>\n",
       "      <th>2</th>\n",
       "      <td>2015-07-02</td>\n",
       "      <td>126.430000</td>\n",
       "      <td>126.690002</td>\n",
       "      <td>125.769997</td>\n",
       "      <td>126.440002</td>\n",
       "      <td>116.528198</td>\n",
       "      <td>27211000</td>\n",
       "      <td>2015</td>\n",
       "      <td>7</td>\n",
       "      <td>2</td>\n",
       "      <td>Thursday</td>\n",
       "      <td>-0.126392</td>\n",
       "      <td>0.727622</td>\n",
       "    </tr>\n",
       "    <tr>\n",
       "      <th>3</th>\n",
       "      <td>2015-07-06</td>\n",
       "      <td>124.940002</td>\n",
       "      <td>126.230003</td>\n",
       "      <td>124.849998</td>\n",
       "      <td>126.000000</td>\n",
       "      <td>116.122704</td>\n",
       "      <td>28060400</td>\n",
       "      <td>2015</td>\n",
       "      <td>7</td>\n",
       "      <td>6</td>\n",
       "      <td>Monday</td>\n",
       "      <td>-0.347979</td>\n",
       "      <td>1.095242</td>\n",
       "    </tr>\n",
       "    <tr>\n",
       "      <th>4</th>\n",
       "      <td>2015-07-07</td>\n",
       "      <td>125.889999</td>\n",
       "      <td>126.150002</td>\n",
       "      <td>123.769997</td>\n",
       "      <td>125.690002</td>\n",
       "      <td>115.837006</td>\n",
       "      <td>46946800</td>\n",
       "      <td>2015</td>\n",
       "      <td>7</td>\n",
       "      <td>7</td>\n",
       "      <td>Tuesday</td>\n",
       "      <td>-0.246031</td>\n",
       "      <td>1.893552</td>\n",
       "    </tr>\n",
       "  </tbody>\n",
       "</table>\n",
       "</div>"
      ],
      "text/plain": [
       "        Date        Open        High         Low       Close   Adj Close  \\\n",
       "0 2015-06-30  125.570000  126.120003  124.860001  125.430000  115.597382   \n",
       "1 2015-07-01  126.900002  126.940002  125.989998  126.599998  116.675667   \n",
       "2 2015-07-02  126.430000  126.690002  125.769997  126.440002  116.528198   \n",
       "3 2015-07-06  124.940002  126.230003  124.849998  126.000000  116.122704   \n",
       "4 2015-07-07  125.889999  126.150002  123.769997  125.690002  115.837006   \n",
       "\n",
       "     Volume  Year  Month  Day    Weekday  Change %  Variation %  \n",
       "0  44370700  2015      6   30    Tuesday       NaN     1.004546  \n",
       "1  30238800  2015      7    1  Wednesday  0.932794     0.750398  \n",
       "2  27211000  2015      7    2   Thursday -0.126392     0.727622  \n",
       "3  28060400  2015      7    6     Monday -0.347979     1.095242  \n",
       "4  46946800  2015      7    7    Tuesday -0.246031     1.893552  "
      ]
     },
     "execution_count": 34,
     "metadata": {},
     "output_type": "execute_result"
    }
   ],
   "source": [
    "df_var.head()"
   ]
  },
  {
   "cell_type": "markdown",
   "metadata": {},
   "source": [
    "#### 15. Create a new DataFrame called `df_var_value`, which the same as `df_var` but with an additional column `Traded Value`, equal to:\n",
    "`Volume * Adj Close`\n",
    "\n",
    "- do not modify `df_var` but create a copy: `df_var_value = df_var.copy()`"
   ]
  },
  {
   "cell_type": "code",
   "execution_count": 35,
   "metadata": {},
   "outputs": [],
   "source": [
    "# Add your code below\n",
    "#continuing on with previous df but creating a copy of it.\n",
    "df_var_value = df_var.copy()\n",
    "#creating a new column - based on below calculation.\n",
    "df_var_value['Traded Value'] = df_var_value['Volume'] * df_var_value['Adj Close']"
   ]
  },
  {
   "cell_type": "markdown",
   "metadata": {},
   "source": [
    "Now uncomment and run the cell below to view `df_var_value`:"
   ]
  },
  {
   "cell_type": "code",
   "execution_count": 36,
   "metadata": {},
   "outputs": [
    {
     "data": {
      "text/html": [
       "<div>\n",
       "<style scoped>\n",
       "    .dataframe tbody tr th:only-of-type {\n",
       "        vertical-align: middle;\n",
       "    }\n",
       "\n",
       "    .dataframe tbody tr th {\n",
       "        vertical-align: top;\n",
       "    }\n",
       "\n",
       "    .dataframe thead th {\n",
       "        text-align: right;\n",
       "    }\n",
       "</style>\n",
       "<table border=\"1\" class=\"dataframe\">\n",
       "  <thead>\n",
       "    <tr style=\"text-align: right;\">\n",
       "      <th></th>\n",
       "      <th>Date</th>\n",
       "      <th>Open</th>\n",
       "      <th>High</th>\n",
       "      <th>Low</th>\n",
       "      <th>Close</th>\n",
       "      <th>Adj Close</th>\n",
       "      <th>Volume</th>\n",
       "      <th>Year</th>\n",
       "      <th>Month</th>\n",
       "      <th>Day</th>\n",
       "      <th>Weekday</th>\n",
       "      <th>Change %</th>\n",
       "      <th>Variation %</th>\n",
       "      <th>Traded Value</th>\n",
       "    </tr>\n",
       "  </thead>\n",
       "  <tbody>\n",
       "    <tr>\n",
       "      <th>0</th>\n",
       "      <td>2015-06-30</td>\n",
       "      <td>125.570000</td>\n",
       "      <td>126.120003</td>\n",
       "      <td>124.860001</td>\n",
       "      <td>125.430000</td>\n",
       "      <td>115.597382</td>\n",
       "      <td>44370700</td>\n",
       "      <td>2015</td>\n",
       "      <td>6</td>\n",
       "      <td>30</td>\n",
       "      <td>Tuesday</td>\n",
       "      <td>NaN</td>\n",
       "      <td>1.004546</td>\n",
       "      <td>5.129137e+09</td>\n",
       "    </tr>\n",
       "    <tr>\n",
       "      <th>1</th>\n",
       "      <td>2015-07-01</td>\n",
       "      <td>126.900002</td>\n",
       "      <td>126.940002</td>\n",
       "      <td>125.989998</td>\n",
       "      <td>126.599998</td>\n",
       "      <td>116.675667</td>\n",
       "      <td>30238800</td>\n",
       "      <td>2015</td>\n",
       "      <td>7</td>\n",
       "      <td>1</td>\n",
       "      <td>Wednesday</td>\n",
       "      <td>0.932794</td>\n",
       "      <td>0.750398</td>\n",
       "      <td>3.528132e+09</td>\n",
       "    </tr>\n",
       "    <tr>\n",
       "      <th>2</th>\n",
       "      <td>2015-07-02</td>\n",
       "      <td>126.430000</td>\n",
       "      <td>126.690002</td>\n",
       "      <td>125.769997</td>\n",
       "      <td>126.440002</td>\n",
       "      <td>116.528198</td>\n",
       "      <td>27211000</td>\n",
       "      <td>2015</td>\n",
       "      <td>7</td>\n",
       "      <td>2</td>\n",
       "      <td>Thursday</td>\n",
       "      <td>-0.126392</td>\n",
       "      <td>0.727622</td>\n",
       "      <td>3.170849e+09</td>\n",
       "    </tr>\n",
       "    <tr>\n",
       "      <th>3</th>\n",
       "      <td>2015-07-06</td>\n",
       "      <td>124.940002</td>\n",
       "      <td>126.230003</td>\n",
       "      <td>124.849998</td>\n",
       "      <td>126.000000</td>\n",
       "      <td>116.122704</td>\n",
       "      <td>28060400</td>\n",
       "      <td>2015</td>\n",
       "      <td>7</td>\n",
       "      <td>6</td>\n",
       "      <td>Monday</td>\n",
       "      <td>-0.347979</td>\n",
       "      <td>1.095242</td>\n",
       "      <td>3.258450e+09</td>\n",
       "    </tr>\n",
       "    <tr>\n",
       "      <th>4</th>\n",
       "      <td>2015-07-07</td>\n",
       "      <td>125.889999</td>\n",
       "      <td>126.150002</td>\n",
       "      <td>123.769997</td>\n",
       "      <td>125.690002</td>\n",
       "      <td>115.837006</td>\n",
       "      <td>46946800</td>\n",
       "      <td>2015</td>\n",
       "      <td>7</td>\n",
       "      <td>7</td>\n",
       "      <td>Tuesday</td>\n",
       "      <td>-0.246031</td>\n",
       "      <td>1.893552</td>\n",
       "      <td>5.438177e+09</td>\n",
       "    </tr>\n",
       "    <tr>\n",
       "      <th>...</th>\n",
       "      <td>...</td>\n",
       "      <td>...</td>\n",
       "      <td>...</td>\n",
       "      <td>...</td>\n",
       "      <td>...</td>\n",
       "      <td>...</td>\n",
       "      <td>...</td>\n",
       "      <td>...</td>\n",
       "      <td>...</td>\n",
       "      <td>...</td>\n",
       "      <td>...</td>\n",
       "      <td>...</td>\n",
       "      <td>...</td>\n",
       "      <td>...</td>\n",
       "    </tr>\n",
       "    <tr>\n",
       "      <th>1254</th>\n",
       "      <td>2020-06-23</td>\n",
       "      <td>364.000000</td>\n",
       "      <td>372.380005</td>\n",
       "      <td>362.269989</td>\n",
       "      <td>366.529999</td>\n",
       "      <td>366.529999</td>\n",
       "      <td>53038900</td>\n",
       "      <td>2020</td>\n",
       "      <td>6</td>\n",
       "      <td>23</td>\n",
       "      <td>Tuesday</td>\n",
       "      <td>2.134479</td>\n",
       "      <td>2.758305</td>\n",
       "      <td>1.944035e+10</td>\n",
       "    </tr>\n",
       "    <tr>\n",
       "      <th>1255</th>\n",
       "      <td>2020-06-24</td>\n",
       "      <td>365.000000</td>\n",
       "      <td>368.790009</td>\n",
       "      <td>358.519989</td>\n",
       "      <td>360.059998</td>\n",
       "      <td>360.059998</td>\n",
       "      <td>48155800</td>\n",
       "      <td>2020</td>\n",
       "      <td>6</td>\n",
       "      <td>24</td>\n",
       "      <td>Wednesday</td>\n",
       "      <td>-1.765204</td>\n",
       "      <td>2.852308</td>\n",
       "      <td>1.733898e+10</td>\n",
       "    </tr>\n",
       "    <tr>\n",
       "      <th>1256</th>\n",
       "      <td>2020-06-25</td>\n",
       "      <td>360.700012</td>\n",
       "      <td>365.000000</td>\n",
       "      <td>357.570007</td>\n",
       "      <td>364.839996</td>\n",
       "      <td>364.839996</td>\n",
       "      <td>34380600</td>\n",
       "      <td>2020</td>\n",
       "      <td>6</td>\n",
       "      <td>25</td>\n",
       "      <td>Thursday</td>\n",
       "      <td>1.327556</td>\n",
       "      <td>2.036507</td>\n",
       "      <td>1.254342e+10</td>\n",
       "    </tr>\n",
       "    <tr>\n",
       "      <th>1257</th>\n",
       "      <td>2020-06-26</td>\n",
       "      <td>364.410004</td>\n",
       "      <td>365.320007</td>\n",
       "      <td>353.019989</td>\n",
       "      <td>353.630005</td>\n",
       "      <td>353.630005</td>\n",
       "      <td>51314200</td>\n",
       "      <td>2020</td>\n",
       "      <td>6</td>\n",
       "      <td>26</td>\n",
       "      <td>Friday</td>\n",
       "      <td>-3.072577</td>\n",
       "      <td>3.478217</td>\n",
       "      <td>1.814624e+10</td>\n",
       "    </tr>\n",
       "    <tr>\n",
       "      <th>1258</th>\n",
       "      <td>2020-06-29</td>\n",
       "      <td>353.250000</td>\n",
       "      <td>362.170013</td>\n",
       "      <td>351.279999</td>\n",
       "      <td>361.779999</td>\n",
       "      <td>361.779999</td>\n",
       "      <td>32579000</td>\n",
       "      <td>2020</td>\n",
       "      <td>6</td>\n",
       "      <td>29</td>\n",
       "      <td>Monday</td>\n",
       "      <td>2.304667</td>\n",
       "      <td>3.010121</td>\n",
       "      <td>1.178643e+10</td>\n",
       "    </tr>\n",
       "  </tbody>\n",
       "</table>\n",
       "<p>1259 rows × 14 columns</p>\n",
       "</div>"
      ],
      "text/plain": [
       "           Date        Open        High         Low       Close   Adj Close  \\\n",
       "0    2015-06-30  125.570000  126.120003  124.860001  125.430000  115.597382   \n",
       "1    2015-07-01  126.900002  126.940002  125.989998  126.599998  116.675667   \n",
       "2    2015-07-02  126.430000  126.690002  125.769997  126.440002  116.528198   \n",
       "3    2015-07-06  124.940002  126.230003  124.849998  126.000000  116.122704   \n",
       "4    2015-07-07  125.889999  126.150002  123.769997  125.690002  115.837006   \n",
       "...         ...         ...         ...         ...         ...         ...   \n",
       "1254 2020-06-23  364.000000  372.380005  362.269989  366.529999  366.529999   \n",
       "1255 2020-06-24  365.000000  368.790009  358.519989  360.059998  360.059998   \n",
       "1256 2020-06-25  360.700012  365.000000  357.570007  364.839996  364.839996   \n",
       "1257 2020-06-26  364.410004  365.320007  353.019989  353.630005  353.630005   \n",
       "1258 2020-06-29  353.250000  362.170013  351.279999  361.779999  361.779999   \n",
       "\n",
       "        Volume  Year  Month  Day    Weekday  Change %  Variation %  \\\n",
       "0     44370700  2015      6   30    Tuesday       NaN     1.004546   \n",
       "1     30238800  2015      7    1  Wednesday  0.932794     0.750398   \n",
       "2     27211000  2015      7    2   Thursday -0.126392     0.727622   \n",
       "3     28060400  2015      7    6     Monday -0.347979     1.095242   \n",
       "4     46946800  2015      7    7    Tuesday -0.246031     1.893552   \n",
       "...        ...   ...    ...  ...        ...       ...          ...   \n",
       "1254  53038900  2020      6   23    Tuesday  2.134479     2.758305   \n",
       "1255  48155800  2020      6   24  Wednesday -1.765204     2.852308   \n",
       "1256  34380600  2020      6   25   Thursday  1.327556     2.036507   \n",
       "1257  51314200  2020      6   26     Friday -3.072577     3.478217   \n",
       "1258  32579000  2020      6   29     Monday  2.304667     3.010121   \n",
       "\n",
       "      Traded Value  \n",
       "0     5.129137e+09  \n",
       "1     3.528132e+09  \n",
       "2     3.170849e+09  \n",
       "3     3.258450e+09  \n",
       "4     5.438177e+09  \n",
       "...            ...  \n",
       "1254  1.944035e+10  \n",
       "1255  1.733898e+10  \n",
       "1256  1.254342e+10  \n",
       "1257  1.814624e+10  \n",
       "1258  1.178643e+10  \n",
       "\n",
       "[1259 rows x 14 columns]"
      ]
     },
     "execution_count": 36,
     "metadata": {},
     "output_type": "execute_result"
    }
   ],
   "source": [
    "df_var_value"
   ]
  }
 ],
 "metadata": {
  "kernel_info": {
   "name": "python3"
  },
  "kernelspec": {
   "display_name": "Python 3 (ipykernel)",
   "language": "python",
   "name": "python3"
  },
  "language_info": {
   "codemirror_mode": {
    "name": "ipython",
    "version": 3
   },
   "file_extension": ".py",
   "mimetype": "text/x-python",
   "name": "python",
   "nbconvert_exporter": "python",
   "pygments_lexer": "ipython3",
   "version": "3.7.16"
  },
  "nteract": {
   "version": "0.15.0"
  }
 },
 "nbformat": 4,
 "nbformat_minor": 1
}
