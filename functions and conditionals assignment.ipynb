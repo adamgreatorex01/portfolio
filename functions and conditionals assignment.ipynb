{
 "cells": [
  {
   "cell_type": "markdown",
   "metadata": {},
   "source": [
    "# Assignment: Python Functions & Conditionals"
   ]
  },
  {
   "cell_type": "markdown",
   "metadata": {},
   "source": [
    "### The assignment will required me to define functions and then use those functions to solve problems with some datasets.  \n",
    "\n",
    "The goal was for me to Instantiate and Develop Python Functions and Methods\n",
    "\n",
    "Throughout this assignment I learnt further skills in:\n",
    "\n",
    "- Creating more complex conditional statements within functions\n",
    "- Utilising a range of resources including python docs and Stack Overflow as a learning resource\n",
    "- Persevering when code does not provide correct outcome or value\n",
    "- Adding more parameters to functions including lists of tuples, text string's and lists of strings \n",
    "- Retruning a dictionary and creating key - value pairs through building a function that takes in a tuple and a string as parameters. \n",
    "- Creating a function which compares 3 lists and returns a list of items which are not present in the other 2 lists. If there are none, return None.\n"
   ]
  },
  {
   "cell_type": "markdown",
   "metadata": {},
   "source": [
    "### Distance and speed conversions"
   ]
  },
  {
   "cell_type": "markdown",
   "metadata": {},
   "source": [
    "We discover that 1 mile is equivalent to `1.61` kilometres.\n",
    "\n",
    "Create a function called `km` with a single parameter called `miles`, (which you can assume will always be a valid number) and returns the equivalent number of kilometres, using the `1.61` value to make the conversion."
   ]
  },
  {
   "cell_type": "code",
   "execution_count": 2,
   "metadata": {},
   "outputs": [],
   "source": [
    "def km(miles):\n",
    "    return miles * 1.61\n",
    "\n"
   ]
  },
  {
   "cell_type": "markdown",
   "metadata": {},
   "source": [
    "Uncomment the following cells to see if your function works as expected:"
   ]
  },
  {
   "cell_type": "code",
   "execution_count": 3,
   "metadata": {},
   "outputs": [
    {
     "data": {
      "text/plain": [
       "136.85"
      ]
     },
     "execution_count": 3,
     "metadata": {},
     "output_type": "execute_result"
    }
   ],
   "source": [
    "km(85)"
   ]
  },
  {
   "cell_type": "markdown",
   "metadata": {},
   "source": [
    "Use your `km` function as part of your working to calculate the total kilometres covered in the journeys in the list `journeys_miles` defined above. Assign the result to a variable called `journeys_km`:"
   ]
  },
  {
   "cell_type": "code",
   "execution_count": 4,
   "metadata": {},
   "outputs": [],
   "source": [
    "journeys_miles = [1.2, 5.3, 2.7, 8.2]\n",
    "\n",
    "journeys_km = km(sum(journeys_miles))\n"
   ]
  },
  {
   "cell_type": "markdown",
   "metadata": {},
   "source": [
    "Once you have implememented the preceding code, uncomment the following cell to show the value of `journeys_km`:"
   ]
  },
  {
   "cell_type": "code",
   "execution_count": 5,
   "metadata": {},
   "outputs": [
    {
     "data": {
      "text/plain": [
       "28.014"
      ]
     },
     "execution_count": 5,
     "metadata": {},
     "output_type": "execute_result"
    }
   ],
   "source": [
    "journeys_km"
   ]
  },
  {
   "cell_type": "markdown",
   "metadata": {},
   "source": [
    "Create a function called `over_kmph_limit` which takes two parameters:\n",
    "- `mph_speed`, representing the speed of a car in miles per hour\n",
    "- `kmph_limit`, representing the speed limit in kilometres per hour\n",
    "\n",
    "The function should return `True` if the car is exceeding the speed limit, and `False` otherwise. You can assume that the input values will always be single positive numerical values.\n"
   ]
  },
  {
   "cell_type": "code",
   "execution_count": 6,
   "metadata": {},
   "outputs": [],
   "source": [
    "def over_kmph_limit(mph_speed, kmph_limit):\n",
    "    if (mph_speed * 1.61) > kmph_limit:\n",
    "        return True\n",
    "    else: return False"
   ]
  },
  {
   "cell_type": "markdown",
   "metadata": {},
   "source": [
    "Once you have implemented the function, uncomment the following cells and see if the statements evaluate as you expect:"
   ]
  },
  {
   "cell_type": "code",
   "execution_count": 7,
   "metadata": {},
   "outputs": [
    {
     "data": {
      "text/plain": [
       "True"
      ]
     },
     "execution_count": 7,
     "metadata": {},
     "output_type": "execute_result"
    }
   ],
   "source": [
    "over_kmph_limit(30, 40)"
   ]
  },
  {
   "cell_type": "code",
   "execution_count": 8,
   "metadata": {},
   "outputs": [
    {
     "data": {
      "text/plain": [
       "False"
      ]
     },
     "execution_count": 8,
     "metadata": {},
     "output_type": "execute_result"
    }
   ],
   "source": [
    "over_kmph_limit(30, 50)"
   ]
  },
  {
   "cell_type": "markdown",
   "metadata": {},
   "source": [
    "There are of course 1000 metres in a kilometre, and 3600 seconds in an hour.\n",
    "\n",
    "Create a function called `ms` which takes a single parameter called `kmph`, and returns the equivalent value in metres per second.\n",
    "\n",
    "You can assume that any argument for `kmph` will be numerical, but if it is negative (i.e. `< 0`), you should instead return the string `'Please enter a positive value.'` Be sure that this string is formatted exactly as given here, i.e. including a full stop at the end."
   ]
  },
  {
   "cell_type": "code",
   "execution_count": 9,
   "metadata": {},
   "outputs": [],
   "source": [
    "def ms(kmph):\n",
    "    if kmph < 0:\n",
    "        return 'Please enter a positive value.'\n",
    "    else: return (kmph * 1000) / 3600"
   ]
  },
  {
   "cell_type": "markdown",
   "metadata": {},
   "source": [
    "Once you have implemented your `ms` function, you can uncomment the following cell and run it:"
   ]
  },
  {
   "cell_type": "code",
   "execution_count": 10,
   "metadata": {},
   "outputs": [
    {
     "data": {
      "text/plain": [
       "43.333333333333336"
      ]
     },
     "execution_count": 10,
     "metadata": {},
     "output_type": "execute_result"
    }
   ],
   "source": [
    "ms(156)"
   ]
  },
  {
   "cell_type": "markdown",
   "metadata": {},
   "source": [
    "### Finding entries based on criteria"
   ]
  },
  {
   "cell_type": "code",
   "execution_count": 11,
   "metadata": {},
   "outputs": [],
   "source": [
    "people = [('John', 36, 'M'), ('Rachel', 24, 'F'), ('Deardrie', 78, 'F'), \n",
    "          ('Ahmed', 17, 'M'), ('Sienna', 14, 'F')]"
   ]
  },
  {
   "cell_type": "markdown",
   "metadata": {},
   "source": [
    "Create a function called `adults` with a single parameter called `members`, which takes a list of tuples in the format given above (`name`, `age`, `gender`), and returns a list of names (the names only) of those who are aged 18 or over."
   ]
  },
  {
   "cell_type": "code",
   "execution_count": 12,
   "metadata": {},
   "outputs": [],
   "source": [
    "def adults(members):\n",
    "    adult_list = []\n",
    "    for item in members:\n",
    "        if item[1] > 18:\n",
    "            adult_list.append(item[0])\n",
    "    return(adult_list)\n"
   ]
  },
  {
   "cell_type": "markdown",
   "metadata": {},
   "source": [
    "### (The following 3 code blocks were for me to clarify what I needed)"
   ]
  },
  {
   "cell_type": "code",
   "execution_count": 37,
   "metadata": {},
   "outputs": [
    {
     "name": "stdout",
     "output_type": "stream",
     "text": [
      "('John', 36, 'M')\n",
      "('Rachel', 24, 'F')\n",
      "('Deardrie', 78, 'F')\n",
      "('Ahmed', 17, 'M')\n",
      "('Sienna', 14, 'F')\n"
     ]
    }
   ],
   "source": [
    "for item in people:\n",
    "    print(item) "
   ]
  },
  {
   "cell_type": "code",
   "execution_count": 14,
   "metadata": {},
   "outputs": [
    {
     "name": "stdout",
     "output_type": "stream",
     "text": [
      "36\n",
      "24\n",
      "78\n",
      "17\n",
      "14\n"
     ]
    }
   ],
   "source": [
    "for item in people:\n",
    "    print(item[1])"
   ]
  },
  {
   "cell_type": "code",
   "execution_count": 15,
   "metadata": {},
   "outputs": [
    {
     "name": "stdout",
     "output_type": "stream",
     "text": [
      "John\n",
      "Rachel\n",
      "Deardrie\n"
     ]
    }
   ],
   "source": [
    "for item in people:\n",
    "    if item[1] > 18:\n",
    "        print(item[0])"
   ]
  },
  {
   "cell_type": "markdown",
   "metadata": {},
   "source": [
    "Uncomment the following cell to see if the code below evaluates as you would expect:"
   ]
  },
  {
   "cell_type": "code",
   "execution_count": 16,
   "metadata": {},
   "outputs": [
    {
     "data": {
      "text/plain": [
       "['John', 'Rachel', 'Deardrie']"
      ]
     },
     "execution_count": 16,
     "metadata": {},
     "output_type": "execute_result"
    }
   ],
   "source": [
    "adults(people)"
   ]
  },
  {
   "cell_type": "markdown",
   "metadata": {},
   "source": [
    "Create a function called `average_age` which takes two parameters:\n",
    "\n",
    "- `members`, a list of tuples in the same format as `people` above \n",
    "- `gender`, a text string such as (but not limited to) `'M'` or `'F'`.\n",
    "\n",
    "It should return the average age of entries in `members` whose gender matches the argument given for `gender`.\n",
    "\n",
    "If no matches are found, return the string `'No matches found.'` \n",
    "\n",
    "As before, ensure this string is formatted exactly as given here."
   ]
  },
  {
   "cell_type": "code",
   "execution_count": 52,
   "metadata": {},
   "outputs": [],
   "source": [
    "def average_age(members, gender):\n",
    "    #create 2 empty lists\n",
    "    male_list = []\n",
    "    female_list = []\n",
    "    #first condition\n",
    "    if gender == 'M':\n",
    "            #if condition is True, run for loop\n",
    "            for item in people:\n",
    "                # finding 'males', then appending to male list\n",
    "                if item[2] == 'M':\n",
    "                    male_list.append(item[1])\n",
    "            # then returing the average age in that list\n",
    "            return(round(sum(male_list) / len(male_list),1))\n",
    "    # but if gender is female\n",
    "    elif gender == 'F':\n",
    "            #if gender is 'female', start for loop\n",
    "            for item in people:\n",
    "                #finding females, then appending to female list\n",
    "                if item[2] == 'F':\n",
    "                    female_list.append(item[1])\n",
    "            #return the average age in female list\n",
    "            return(round(sum(female_list) / len(female_list),1))\n",
    "    # incase no matches are found, returning the below string\n",
    "    else: return 'No matches found.'"
   ]
  },
  {
   "cell_type": "markdown",
   "metadata": {},
   "source": [
    "Uncomment the following cells to seee if your function works as expected:"
   ]
  },
  {
   "cell_type": "code",
   "execution_count": 56,
   "metadata": {},
   "outputs": [
    {
     "data": {
      "text/plain": [
       "26.5"
      ]
     },
     "execution_count": 56,
     "metadata": {},
     "output_type": "execute_result"
    }
   ],
   "source": [
    "average_age(people, 'M')"
   ]
  },
  {
   "cell_type": "code",
   "execution_count": 55,
   "metadata": {},
   "outputs": [
    {
     "data": {
      "text/plain": [
       "'No matches found.'"
      ]
     },
     "execution_count": 55,
     "metadata": {},
     "output_type": "execute_result"
    }
   ],
   "source": [
    "average_age(people, 'Z')"
   ]
  },
  {
   "cell_type": "code",
   "execution_count": 54,
   "metadata": {},
   "outputs": [
    {
     "data": {
      "text/plain": [
       "38.7"
      ]
     },
     "execution_count": 54,
     "metadata": {},
     "output_type": "execute_result"
    }
   ],
   "source": [
    "average_age(people, 'F')"
   ]
  },
  {
   "cell_type": "markdown",
   "metadata": {},
   "source": [
    "Create a function called `member_details`, with two parameters:\n",
    "\n",
    "- a list of tuples, in the same format as `people` above\n",
    "- a string, representing the name of one of the entries\n",
    "\n",
    "You can choose any name for the parameters, but avoid using variables defined elsewhere in the notebook.\n",
    "\n",
    "The function should return a dictionary with two keys, `age` and `gender`, with the values being those from the tuple which contains the name passed as the second argument to the function. If the name isn't found in the list of tuples, return [`None`](https://www.w3schools.com/python/ref_keyword_none.asp)."
   ]
  },
  {
   "cell_type": "code",
   "execution_count": 23,
   "metadata": {},
   "outputs": [
    {
     "data": {
      "text/plain": [
       "[('John', 36, 'M'),\n",
       " ('Rachel', 24, 'F'),\n",
       " ('Deardrie', 78, 'F'),\n",
       " ('Ahmed', 17, 'M'),\n",
       " ('Sienna', 14, 'F')]"
      ]
     },
     "execution_count": 23,
     "metadata": {},
     "output_type": "execute_result"
    }
   ],
   "source": [
    "people"
   ]
  },
  {
   "cell_type": "code",
   "execution_count": 60,
   "metadata": {},
   "outputs": [],
   "source": [
    "def member_details(people, name):\n",
    "    #create empty dictionary\n",
    "    found={}\n",
    "    # for loop for keys in people dictionary\n",
    "    for _name,_age,_gender in people:\n",
    "        # if the name in the person dictionary equals the 'string name' entered as the argument then....\n",
    "        # The age in the people dictionary is assigned the value for the key in found{}, and subsquent gender key does the same\n",
    "        if _name==name:\n",
    "            found[\"age\"]=_age\n",
    "            found[\"gender\"]=_gender\n",
    "            return found\n",
    "    return None"
   ]
  },
  {
   "cell_type": "markdown",
   "metadata": {},
   "source": [
    "Call your `member_details` function using `people` and `'Ahmed'` as the arguments, and assign the result to `ahmed_details`."
   ]
  },
  {
   "cell_type": "code",
   "execution_count": 61,
   "metadata": {},
   "outputs": [
    {
     "data": {
      "text/plain": [
       "{'age': 17, 'gender': 'M'}"
      ]
     },
     "execution_count": 61,
     "metadata": {},
     "output_type": "execute_result"
    }
   ],
   "source": [
    "ahmed_details = member_details(people, 'Ahmed')\n",
    "ahmed_details"
   ]
  },
  {
   "cell_type": "markdown",
   "metadata": {},
   "source": [
    "### Below were my inital attempts to answer this question on the member_details function"
   ]
  },
  {
   "cell_type": "code",
   "execution_count": 24,
   "metadata": {},
   "outputs": [],
   "source": [
    "# people1 = [('John', 36, 'M'), ('Rachel', 24, 'F'), ('Deardrie', 78, 'F'), ('Ahmed', 17, 'M'), ('Sienna', 14, 'F')]\n",
    "\n",
    "# def xyz(people, name):\n",
    "#     found={}\n",
    "#     for _name,_age,_gender in people:\n",
    "#         if _name==name:\n",
    "#             found[\"Age\"]=_age\n",
    "#             found[\"Gender\"]=_gender\n",
    "#             return found\n",
    "#     return None\n",
    "    \n",
    "# print(xyz(people1,\"John\"))\n",
    "# print(xyz(people1,\"John1\"))\n",
    "\n",
    "\n",
    "        "
   ]
  },
  {
   "cell_type": "code",
   "execution_count": 25,
   "metadata": {},
   "outputs": [],
   "source": [
    "\n",
    "\n",
    "# people = [('John', 36, 'M'), ('Rachel', 24, 'F'), ('Deardrie', 78, 'F'), ('Ahmed', 17, 'M'), ('Sienna', 14, 'F')]\n",
    "\n",
    "# def my_func(people, name:str):\n",
    "#     b = {}\n",
    "#     for person in people:\n",
    "#         if person[0] == name:\n",
    "#             b[\"Age\"] = person[1]\n",
    "#             b[\"Gender\"] = person[2]\n",
    "#     if len(b)>0:\n",
    "#         return b\n",
    "#     else:\n",
    "#         return None\n",
    "        \n",
    "\n",
    "# c = my_func(people, 'Rachel')\n",
    "# print(c)\n",
    "# d = my_func(people, 'Diana')\n",
    "# print(\"\\n\" + str(d))"
   ]
  },
  {
   "cell_type": "code",
   "execution_count": 26,
   "metadata": {},
   "outputs": [],
   "source": [
    "# def my_f(people, name):\n",
    "# result = []\n",
    "# for each in people:\n",
    "#     if each[0] == name:\n",
    "#         result.append({'age': each[1], 'gender': each[2]})\n",
    "# if len(result) == 0:\n",
    "#     return None\n",
    "# return result\n"
   ]
  },
  {
   "cell_type": "markdown",
   "metadata": {},
   "source": [
    "Create a function called `is_member` which takes two arguments:\n",
    "    \n",
    "- a list of tuples, in the same format as `people` above (with the name as the first element in each)\n",
    "- a string, representing a name to be checked whether it is in the list\n",
    "\n",
    "The function should itself call the `member_details` function you defined earlier to determine whether there is a match; `is_member` should return `True` if there is, and `False` otherwise."
   ]
  },
  {
   "cell_type": "code",
   "execution_count": 64,
   "metadata": {},
   "outputs": [],
   "source": [
    "def is_member(team, check_is_mem):\n",
    "# if member_details does not return None - then the condition is true       \n",
    "    if member_details(team, check_is_mem):\n",
    "        return True\n",
    "    else: return False\n"
   ]
  },
  {
   "cell_type": "code",
   "execution_count": 63,
   "metadata": {},
   "outputs": [
    {
     "data": {
      "text/plain": [
       "False"
      ]
     },
     "execution_count": 63,
     "metadata": {},
     "output_type": "execute_result"
    }
   ],
   "source": [
    "is_member(people, 'george')"
   ]
  },
  {
   "cell_type": "code",
   "execution_count": 30,
   "metadata": {},
   "outputs": [
    {
     "data": {
      "text/plain": [
       "True"
      ]
     },
     "execution_count": 30,
     "metadata": {},
     "output_type": "execute_result"
    }
   ],
   "source": [
    "is_member(people, 'John')"
   ]
  },
  {
   "cell_type": "markdown",
   "metadata": {},
   "source": [
    "Create a function called `check_group` which has two arguments:\n",
    "\n",
    "- a list of names representing existing members (just a list, not tuples as previously)\n",
    "- a list of names representing visitors (who may or may not be members)\n",
    "\n",
    "The function should return a string in the format `'Member present: {person}.'` (ensure it matches this exactly), where `{person}` is replaced by the first name in the visitors to be identified as a member. \n",
    "\n",
    "If no member is found, return `'No members.`'"
   ]
  },
  {
   "cell_type": "code",
   "execution_count": 31,
   "metadata": {},
   "outputs": [],
   "source": [
    "\n",
    "def check_group(members, visitors):\n",
    "    for visitor in visitors:\n",
    "        if visitor in members:\n",
    "            return f'Member present: {visitor}.'\n",
    "    return 'No members.'\n"
   ]
  },
  {
   "cell_type": "code",
   "execution_count": 32,
   "metadata": {},
   "outputs": [],
   "source": [
    "members = ['Alex', 'Danny', 'Kieran', 'Zoe', 'Caroline']\n",
    "visitors = ['Scott', 'Helen', 'Raj', 'Danny']"
   ]
  },
  {
   "cell_type": "markdown",
   "metadata": {},
   "source": [
    "See if your function works as expected by running the cell below:"
   ]
  },
  {
   "cell_type": "code",
   "execution_count": 33,
   "metadata": {},
   "outputs": [
    {
     "data": {
      "text/plain": [
       "'Member present: Danny.'"
      ]
     },
     "execution_count": 33,
     "metadata": {},
     "output_type": "execute_result"
    }
   ],
   "source": [
    "check_group(members, visitors)"
   ]
  },
  {
   "cell_type": "markdown",
   "metadata": {},
   "source": [
    "Create a function called `guests` which has three parameters:\n",
    "- a list of strings representing existing members\n",
    "- a list of strings representing new members\n",
    "- a list of strings representing visitors\n",
    "\n",
    "The function should return a list of visitors who are neither existing nor new members. If there are none, return [`None`](https://www.w3schools.com/python/ref_keyword_none.asp)."
   ]
  },
  {
   "cell_type": "code",
   "execution_count": 34,
   "metadata": {},
   "outputs": [],
   "source": [
    "def guests(members, signups, visitors):\n",
    "    actual_visitors = []\n",
    "    for visitor in visitors:\n",
    "        if visitor not in members:\n",
    "            if visitor not in signups:\n",
    "                actual_visitors.append(visitor)\n",
    "                return actual_visitors\n",
    "    return None"
   ]
  },
  {
   "cell_type": "markdown",
   "metadata": {},
   "source": [
    "Uncomment and run the cell below and see whether your function works as expected:"
   ]
  },
  {
   "cell_type": "code",
   "execution_count": 36,
   "metadata": {},
   "outputs": [
    {
     "data": {
      "text/plain": [
       "['Raj']"
      ]
     },
     "execution_count": 36,
     "metadata": {},
     "output_type": "execute_result"
    }
   ],
   "source": [
    "signups = ['Helen', 'Scott']\n",
    "members = ['Alex', 'Danny', 'Kieran', 'Zoe', 'Caroline']\n",
    "visitors = ['Scott', 'Helen', 'Raj', 'Danny']\n",
    "guests(members, signups, visitors)"
   ]
  }
 ],
 "metadata": {
  "kernelspec": {
   "display_name": "Python 3 (ipykernel)",
   "language": "python",
   "name": "python3"
  },
  "language_info": {
   "codemirror_mode": {
    "name": "ipython",
    "version": 3
   },
   "file_extension": ".py",
   "mimetype": "text/x-python",
   "name": "python",
   "nbconvert_exporter": "python",
   "pygments_lexer": "ipython3",
   "version": "3.7.16"
  }
 },
 "nbformat": 4,
 "nbformat_minor": 4
}
