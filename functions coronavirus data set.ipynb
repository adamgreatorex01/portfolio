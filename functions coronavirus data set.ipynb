{
 "cells": [
  {
   "cell_type": "markdown",
   "metadata": {},
   "source": [
    "# Exercises: Functions"
   ]
  },
  {
   "cell_type": "markdown",
   "metadata": {},
   "source": [
    "### In this assignment I created functions to solve some problems on a coronovirus data set which has been adapted into a dictionary.\n",
    "The goal of this assignment was for me to make a set of functions that can be re-used on any CSV file which is in the same format as corona.csv, thus if corona.csv were updated, all of my functions could be re-used to gather the same metrics as before. \n",
    "This project encouarged me to learn how to write re-usable functions and practice skills in:\n",
    "- Using the .zip function\n",
    "- Adding comments within functions to explain what is happening and document my own thought process\n",
    "- Using for loops to iterate through elements\n",
    "- Utilising conditional statements to to get required values"
   ]
  },
  {
   "cell_type": "markdown",
   "metadata": {},
   "source": [
    "In this notebook you will create numerous functions, all of which have a single parameter `data`.\n",
    "\n",
    "Running the code cell below will assign to `latest` an example of an argument suitable for passing to each function as the `data` parameter. You'll see after each incomplete function a code cell which will call that function using `latest`, so that you can check your function is working as expected. **Don't change the function names**.\n",
    "\n",
    "The dataset, which relates to Coronavirus cases across the world, was taken from [worldmeters.info](https://www.worldometers.info/coronavirus/#countries) on February 19th 2020.\n",
    "\n",
    "We have used the `pandas` package for convenience to import and process the dataset from the `corona.csv` file, which you can examine via Jupyter or a spreadsheet application if you want to.\n",
    "\n",
    " **Complete the subsequent exercises using Python only**."
   ]
  },
  {
   "cell_type": "code",
   "execution_count": 1,
   "metadata": {},
   "outputs": [],
   "source": [
    "import pandas as pd\n",
    "\n",
    "df = pd.read_csv('data/corona.csv').fillna(0).astype(dtype = int, errors='ignore')\\\n",
    "    .sort_values(by='Total Cases', ascending=False)\n",
    "\n",
    "latest = df.to_dict('list')"
   ]
  },
  {
   "cell_type": "markdown",
   "metadata": {},
   "source": [
    "`latest` is a dictionary, where each key is a column heading in the CSV, and each value is a list containing the values in the given column from each row of the CSV:"
   ]
  },
  {
   "cell_type": "code",
   "execution_count": 2,
   "metadata": {},
   "outputs": [
    {
     "data": {
      "text/plain": [
       "dict_keys(['Country', 'Total Cases', 'New Cases', 'Total Deaths', 'New Deaths', 'Recovered', 'Serious'])"
      ]
     },
     "execution_count": 2,
     "metadata": {},
     "output_type": "execute_result"
    }
   ],
   "source": [
    "latest.keys()"
   ]
  },
  {
   "cell_type": "markdown",
   "metadata": {},
   "source": [
    "We can therefore access the column and cell values as follows:"
   ]
  },
  {
   "cell_type": "code",
   "execution_count": 53,
   "metadata": {},
   "outputs": [
    {
     "name": "stdout",
     "output_type": "stream",
     "text": [
      "['China', 'Diamond Princess', 'Singapore', 'Japan', 'Hong Kong', 'S. Korea', 'Thailand', 'USA', 'Taiwan', 'Malaysia', 'Vietnam', 'Germany', 'Australia', 'France', 'Macao', 'U.K.', 'U.A.E.', 'Canada', 'Philippines', 'Italy', 'India', 'Russia', 'Spain', 'Nepal', 'Belgium', 'Sri Lanka', 'Finland', 'Egypt', 'Cambodia', 'Sweden']\n"
     ]
    }
   ],
   "source": [
    "print(latest['Country'])"
   ]
  },
  {
   "cell_type": "markdown",
   "metadata": {},
   "source": [
    "... and elements at a given position in all of the lists are from the same row of the CSV:"
   ]
  },
  {
   "cell_type": "code",
   "execution_count": 54,
   "metadata": {},
   "outputs": [
    {
     "name": "stdout",
     "output_type": "stream",
     "text": [
      "China\n",
      "74187\n"
     ]
    }
   ],
   "source": [
    "print(latest['Country'][0])\n",
    "print(latest['Total Cases'][0])"
   ]
  },
  {
   "cell_type": "markdown",
   "metadata": {},
   "source": [
    "**When writing your functions, you can assume that the dataset will be ordered by `Total Cases`**, with the data for the countries highest number of cases coming first in each list. The number of rows in the CSV file may change, but the lengths of each resulting list (i.e. column) will always be the same as one another.\n",
    "\n",
    "Your goal is to make a set of functions that can be re-used on any CSV file which is in the same format as `corona.csv` and as described above; thus if `corona.csv` were updated, all of your functions could be re-used to gather the same metrics as before.\n",
    "\n",
    "We encourage you to re-use previous functions within other functions where possible."
   ]
  },
  {
   "cell_type": "markdown",
   "metadata": {},
   "source": [
    "Create a function which returns the worldwide number of reported cases, i.e. the sum of `Total Cases`:"
   ]
  },
  {
   "cell_type": "code",
   "execution_count": 3,
   "metadata": {},
   "outputs": [],
   "source": [
    "def case_count(data):    \n",
    "    return (sum(latest['Total Cases']))\n",
    "   "
   ]
  },
  {
   "cell_type": "markdown",
   "metadata": {},
   "source": [
    "You can test your function using the following cell:"
   ]
  },
  {
   "cell_type": "code",
   "execution_count": 56,
   "metadata": {},
   "outputs": [
    {
     "data": {
      "text/plain": [
       "75307"
      ]
     },
     "execution_count": 56,
     "metadata": {},
     "output_type": "execute_result"
    }
   ],
   "source": [
    "(case_count(latest))"
   ]
  },
  {
   "cell_type": "markdown",
   "metadata": {},
   "source": [
    "Create a function which returns the number of countries which have reported cases, i.e. the number of countries listed in the table (`Diamond Princess` can be treated as a country for all functions):"
   ]
  },
  {
   "cell_type": "code",
   "execution_count": 57,
   "metadata": {},
   "outputs": [],
   "source": [
    "def country_count(data):\n",
    "    return(len(latest['Country']))\n",
    "    "
   ]
  },
  {
   "cell_type": "markdown",
   "metadata": {},
   "source": [
    "You can test your function using the following cell:"
   ]
  },
  {
   "cell_type": "code",
   "execution_count": 58,
   "metadata": {},
   "outputs": [
    {
     "data": {
      "text/plain": [
       "30"
      ]
     },
     "execution_count": 58,
     "metadata": {},
     "output_type": "execute_result"
    }
   ],
   "source": [
    "country_count(latest)"
   ]
  },
  {
   "cell_type": "markdown",
   "metadata": {},
   "source": [
    "Create a function which returns the average number of cases over all listed countries:"
   ]
  },
  {
   "cell_type": "code",
   "execution_count": 59,
   "metadata": {},
   "outputs": [],
   "source": [
    "def average_cases(data):\n",
    "     return sum(latest['Total Cases']) / len(latest['Country'])\n",
    "\n",
    "    "
   ]
  },
  {
   "cell_type": "markdown",
   "metadata": {},
   "source": [
    "You can test your function using the following cell:"
   ]
  },
  {
   "cell_type": "code",
   "execution_count": 60,
   "metadata": {},
   "outputs": [
    {
     "data": {
      "text/plain": [
       "2510.233333333333"
      ]
     },
     "execution_count": 60,
     "metadata": {},
     "output_type": "execute_result"
    }
   ],
   "source": [
    "average_cases(latest)"
   ]
  },
  {
   "cell_type": "markdown",
   "metadata": {},
   "source": [
    "Create a function which returns the number of countries where `Total Cases` equals `1`:"
   ]
  },
  {
   "cell_type": "code",
   "execution_count": 7,
   "metadata": {},
   "outputs": [],
   "source": [
    "def single_case_country_count(data):\n",
    "    #create empty list\n",
    "    one_case = []\n",
    "    #for loop that finds values equal to '1' in 'total cases column'\n",
    "    for i in latest['Total Cases']:\n",
    "        if i == 1:\n",
    "            #appends finding to 'one_case' list\n",
    "            one_case.append(i)\n",
    "            #returns length of 'one_case' list\n",
    "    return (len(one_case))"
   ]
  },
  {
   "cell_type": "markdown",
   "metadata": {},
   "source": [
    "You can test your function using the following cell:"
   ]
  },
  {
   "cell_type": "code",
   "execution_count": 5,
   "metadata": {},
   "outputs": [
    {
     "data": {
      "text/plain": [
       "7"
      ]
     },
     "execution_count": 5,
     "metadata": {},
     "output_type": "execute_result"
    }
   ],
   "source": [
    "single_case_country_count(latest)"
   ]
  },
  {
   "cell_type": "markdown",
   "metadata": {},
   "source": [
    "Create a function which returns a list of countries the number of cases is equal to one:\n",
    "\n",
    "Hint: you can use the `zip()` function in Python to iterate over two lists at the same time."
   ]
  },
  {
   "cell_type": "code",
   "execution_count": 15,
   "metadata": {},
   "outputs": [],
   "source": [
    "def single_case_countries(data):\n",
    "    #creating list varialble name to zip\n",
    "    list1 = latest['Country']\n",
    "    list2 = latest['Total Cases']\n",
    "    #Python's zip() function creates an iterator that will aggregate elements from two or more iterables\n",
    "    country_cases = list(zip(list1, list2))\n",
    "    #create empty list to append to\n",
    "    list3 = []\n",
    "    #create for loop\n",
    "    for l1, l2 in country_cases:\n",
    "        #if 2nd element == '1'\n",
    "        if l2 == 1:\n",
    "            #append 1st element (that being the country name)\n",
    "            list3.append(l1)\n",
    "    return(list3)\n",
    "   \n",
    "    \n",
    "    "
   ]
  },
  {
   "cell_type": "markdown",
   "metadata": {},
   "source": [
    "You can test your function using the following cell:"
   ]
  },
  {
   "cell_type": "code",
   "execution_count": 16,
   "metadata": {},
   "outputs": [
    {
     "data": {
      "text/plain": [
       "['Nepal', 'Belgium', 'Sri Lanka', 'Finland', 'Egypt', 'Cambodia', 'Sweden']"
      ]
     },
     "execution_count": 16,
     "metadata": {},
     "output_type": "execute_result"
    }
   ],
   "source": [
    "single_case_countries(latest)"
   ]
  },
  {
   "cell_type": "markdown",
   "metadata": {},
   "source": [
    "Create a function which returns a list of countries in which there are still active cases, i.e. where `Total Cases` minus `Total Deaths` exceeds `Recovered`. You may find the `enumerate()` Python function helpful.    "
   ]
  },
  {
   "cell_type": "code",
   "execution_count": 21,
   "metadata": {},
   "outputs": [],
   "source": [
    "def active_countries(data):\n",
    "    combined_list = list(zip(latest['Country'], latest['Total Cases'], latest['Total Deaths'], latest['Recovered'])) \n",
    "    active_list = []\n",
    "    for i in combined_list:\n",
    "        # where Total Cases (i[1]) minus Total Deaths (i[2]) exceeds Recovered (i[3])\n",
    "        if i[1] - i[2] > i[3]:\n",
    "            active_list.append(i[0])\n",
    "    return(active_list)\n",
    "    "
   ]
  },
  {
   "cell_type": "markdown",
   "metadata": {},
   "source": [
    "You can test your function using the following cell:"
   ]
  },
  {
   "cell_type": "code",
   "execution_count": 22,
   "metadata": {},
   "outputs": [
    {
     "data": {
      "text/plain": [
       "['China',\n",
       " 'Diamond Princess',\n",
       " 'Singapore',\n",
       " 'Japan',\n",
       " 'Hong Kong',\n",
       " 'S. Korea',\n",
       " 'Thailand',\n",
       " 'USA',\n",
       " 'Taiwan',\n",
       " 'Malaysia',\n",
       " 'Vietnam',\n",
       " 'Germany',\n",
       " 'Australia',\n",
       " 'France',\n",
       " 'Macao',\n",
       " 'U.K.',\n",
       " 'U.A.E.',\n",
       " 'Canada',\n",
       " 'Italy',\n",
       " 'Egypt',\n",
       " 'Sweden']"
      ]
     },
     "execution_count": 22,
     "metadata": {},
     "output_type": "execute_result"
    }
   ],
   "source": [
    "active_countries(latest)"
   ]
  },
  {
   "cell_type": "markdown",
   "metadata": {},
   "source": [
    "Create a function which returns a list of countries where there are no longer any active cases:"
   ]
  },
  {
   "cell_type": "code",
   "execution_count": 25,
   "metadata": {},
   "outputs": [],
   "source": [
    "def cleared_countries(data):\n",
    "    combined_list = list(zip(latest['Country'], latest['Total Cases'], latest['Total Deaths'], latest['Recovered'])) \n",
    "    no_case= []\n",
    "    for i in combined_list:\n",
    "        if i[1] == i[2] + i[3]:\n",
    "            no_case.append(i[0])\n",
    "    return(no_case)"
   ]
  },
  {
   "cell_type": "markdown",
   "metadata": {},
   "source": [
    "You can test your function using the following cell:"
   ]
  },
  {
   "cell_type": "code",
   "execution_count": 26,
   "metadata": {},
   "outputs": [
    {
     "data": {
      "text/plain": [
       "['Philippines',\n",
       " 'India',\n",
       " 'Russia',\n",
       " 'Spain',\n",
       " 'Nepal',\n",
       " 'Belgium',\n",
       " 'Sri Lanka',\n",
       " 'Finland',\n",
       " 'Cambodia']"
      ]
     },
     "execution_count": 26,
     "metadata": {},
     "output_type": "execute_result"
    }
   ],
   "source": [
    "cleared_countries(latest)"
   ]
  }
 ],
 "metadata": {
  "kernelspec": {
   "display_name": "Python 3 (ipykernel)",
   "language": "python",
   "name": "python3"
  },
  "language_info": {
   "codemirror_mode": {
    "name": "ipython",
    "version": 3
   },
   "file_extension": ".py",
   "mimetype": "text/x-python",
   "name": "python",
   "nbconvert_exporter": "python",
   "pygments_lexer": "ipython3",
   "version": "3.7.16"
  }
 },
 "nbformat": 4,
 "nbformat_minor": 2
}
